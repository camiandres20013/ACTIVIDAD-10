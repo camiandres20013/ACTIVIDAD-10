{
  "nbformat": 4,
  "nbformat_minor": 0,
  "metadata": {
    "colab": {
      "provenance": []
    },
    "kernelspec": {
      "name": "python3",
      "display_name": "Python 3"
    },
    "language_info": {
      "name": "python"
    }
  },
  "cells": [
    {
      "cell_type": "markdown",
      "source": [
        "# ACTIVIDAD DATAFRAMES CON PANDAS\n",
        "Análisis de datos (grupo 2) \\\\\n",
        "Unidad 10, Dataframes con pandas \\\\\n",
        "Camilo Andrés Barajas Rozo \\\\\n",
        "Cédula: 1000330011"
      ],
      "metadata": {
        "id": "FhAObfrkG92z"
      }
    },
    {
      "cell_type": "markdown",
      "source": [
        "**Objetivo:**  Afianzar el conocimiento obtenido en el uso de pandas."
      ],
      "metadata": {
        "id": "BIGz-pAOJNgE"
      }
    },
    {
      "cell_type": "markdown",
      "source": [
        "**Descripción de la actividad**\n",
        "1.  Cargue el dataset disponible en https://www.datos.gov.co/Econom-a-y-Finanzas/Tasa-de-Cambio-Representativa-del-Mercado-TRM/32sa-8pi3 .\n",
        "\n"
      ],
      "metadata": {
        "id": "RopCRSYuJjBS"
      }
    },
    {
      "cell_type": "code",
      "source": [
        "!pip install sodapy"
      ],
      "metadata": {
        "id": "kL3z73uEbuoQ",
        "colab": {
          "base_uri": "https://localhost:8080/"
        },
        "outputId": "76dfb9f1-60ba-4fb6-8210-3877b11b23e1"
      },
      "execution_count": 53,
      "outputs": [
        {
          "output_type": "stream",
          "name": "stdout",
          "text": [
            "Looking in indexes: https://pypi.org/simple, https://us-python.pkg.dev/colab-wheels/public/simple/\n",
            "Requirement already satisfied: sodapy in /usr/local/lib/python3.10/dist-packages (2.2.0)\n",
            "Requirement already satisfied: requests>=2.28.1 in /usr/local/lib/python3.10/dist-packages (from sodapy) (2.31.0)\n",
            "Requirement already satisfied: charset-normalizer<4,>=2 in /usr/local/lib/python3.10/dist-packages (from requests>=2.28.1->sodapy) (2.0.12)\n",
            "Requirement already satisfied: idna<4,>=2.5 in /usr/local/lib/python3.10/dist-packages (from requests>=2.28.1->sodapy) (3.4)\n",
            "Requirement already satisfied: urllib3<3,>=1.21.1 in /usr/local/lib/python3.10/dist-packages (from requests>=2.28.1->sodapy) (1.26.15)\n",
            "Requirement already satisfied: certifi>=2017.4.17 in /usr/local/lib/python3.10/dist-packages (from requests>=2.28.1->sodapy) (2022.12.7)\n"
          ]
        }
      ]
    },
    {
      "cell_type": "code",
      "execution_count": 54,
      "metadata": {
        "colab": {
          "base_uri": "https://localhost:8080/",
          "height": 224
        },
        "id": "Rlwc9SCzDhbH",
        "outputId": "f3d3c837-7e0c-4f62-aff7-b7c108727200"
      },
      "outputs": [
        {
          "output_type": "stream",
          "name": "stderr",
          "text": [
            "WARNING:root:Requests made without an app_token will be subject to strict throttling limits.\n"
          ]
        },
        {
          "output_type": "execute_result",
          "data": {
            "text/plain": [
              "     valor unidad            vigenciadesde            vigenciahasta\n",
              "0  4761.64    COP  2022-12-22T00:00:00.000  2022-12-22T00:00:00.000\n",
              "1  4781.28    COP  2022-12-20T00:00:00.000  2022-12-20T00:00:00.000\n",
              "2  4802.48    COP  2022-12-17T00:00:00.000  2022-12-19T00:00:00.000\n",
              "3  4836.24    COP  2022-12-13T00:00:00.000  2022-12-13T00:00:00.000\n",
              "4  4815.99    COP  2022-12-10T00:00:00.000  2022-12-12T00:00:00.000"
            ],
            "text/html": [
              "\n",
              "  <div id=\"df-25b40321-c93e-429c-93bd-3f8be1e27914\">\n",
              "    <div class=\"colab-df-container\">\n",
              "      <div>\n",
              "<style scoped>\n",
              "    .dataframe tbody tr th:only-of-type {\n",
              "        vertical-align: middle;\n",
              "    }\n",
              "\n",
              "    .dataframe tbody tr th {\n",
              "        vertical-align: top;\n",
              "    }\n",
              "\n",
              "    .dataframe thead th {\n",
              "        text-align: right;\n",
              "    }\n",
              "</style>\n",
              "<table border=\"1\" class=\"dataframe\">\n",
              "  <thead>\n",
              "    <tr style=\"text-align: right;\">\n",
              "      <th></th>\n",
              "      <th>valor</th>\n",
              "      <th>unidad</th>\n",
              "      <th>vigenciadesde</th>\n",
              "      <th>vigenciahasta</th>\n",
              "    </tr>\n",
              "  </thead>\n",
              "  <tbody>\n",
              "    <tr>\n",
              "      <th>0</th>\n",
              "      <td>4761.64</td>\n",
              "      <td>COP</td>\n",
              "      <td>2022-12-22T00:00:00.000</td>\n",
              "      <td>2022-12-22T00:00:00.000</td>\n",
              "    </tr>\n",
              "    <tr>\n",
              "      <th>1</th>\n",
              "      <td>4781.28</td>\n",
              "      <td>COP</td>\n",
              "      <td>2022-12-20T00:00:00.000</td>\n",
              "      <td>2022-12-20T00:00:00.000</td>\n",
              "    </tr>\n",
              "    <tr>\n",
              "      <th>2</th>\n",
              "      <td>4802.48</td>\n",
              "      <td>COP</td>\n",
              "      <td>2022-12-17T00:00:00.000</td>\n",
              "      <td>2022-12-19T00:00:00.000</td>\n",
              "    </tr>\n",
              "    <tr>\n",
              "      <th>3</th>\n",
              "      <td>4836.24</td>\n",
              "      <td>COP</td>\n",
              "      <td>2022-12-13T00:00:00.000</td>\n",
              "      <td>2022-12-13T00:00:00.000</td>\n",
              "    </tr>\n",
              "    <tr>\n",
              "      <th>4</th>\n",
              "      <td>4815.99</td>\n",
              "      <td>COP</td>\n",
              "      <td>2022-12-10T00:00:00.000</td>\n",
              "      <td>2022-12-12T00:00:00.000</td>\n",
              "    </tr>\n",
              "  </tbody>\n",
              "</table>\n",
              "</div>\n",
              "      <button class=\"colab-df-convert\" onclick=\"convertToInteractive('df-25b40321-c93e-429c-93bd-3f8be1e27914')\"\n",
              "              title=\"Convert this dataframe to an interactive table.\"\n",
              "              style=\"display:none;\">\n",
              "        \n",
              "  <svg xmlns=\"http://www.w3.org/2000/svg\" height=\"24px\"viewBox=\"0 0 24 24\"\n",
              "       width=\"24px\">\n",
              "    <path d=\"M0 0h24v24H0V0z\" fill=\"none\"/>\n",
              "    <path d=\"M18.56 5.44l.94 2.06.94-2.06 2.06-.94-2.06-.94-.94-2.06-.94 2.06-2.06.94zm-11 1L8.5 8.5l.94-2.06 2.06-.94-2.06-.94L8.5 2.5l-.94 2.06-2.06.94zm10 10l.94 2.06.94-2.06 2.06-.94-2.06-.94-.94-2.06-.94 2.06-2.06.94z\"/><path d=\"M17.41 7.96l-1.37-1.37c-.4-.4-.92-.59-1.43-.59-.52 0-1.04.2-1.43.59L10.3 9.45l-7.72 7.72c-.78.78-.78 2.05 0 2.83L4 21.41c.39.39.9.59 1.41.59.51 0 1.02-.2 1.41-.59l7.78-7.78 2.81-2.81c.8-.78.8-2.07 0-2.86zM5.41 20L4 18.59l7.72-7.72 1.47 1.35L5.41 20z\"/>\n",
              "  </svg>\n",
              "      </button>\n",
              "      \n",
              "  <style>\n",
              "    .colab-df-container {\n",
              "      display:flex;\n",
              "      flex-wrap:wrap;\n",
              "      gap: 12px;\n",
              "    }\n",
              "\n",
              "    .colab-df-convert {\n",
              "      background-color: #E8F0FE;\n",
              "      border: none;\n",
              "      border-radius: 50%;\n",
              "      cursor: pointer;\n",
              "      display: none;\n",
              "      fill: #1967D2;\n",
              "      height: 32px;\n",
              "      padding: 0 0 0 0;\n",
              "      width: 32px;\n",
              "    }\n",
              "\n",
              "    .colab-df-convert:hover {\n",
              "      background-color: #E2EBFA;\n",
              "      box-shadow: 0px 1px 2px rgba(60, 64, 67, 0.3), 0px 1px 3px 1px rgba(60, 64, 67, 0.15);\n",
              "      fill: #174EA6;\n",
              "    }\n",
              "\n",
              "    [theme=dark] .colab-df-convert {\n",
              "      background-color: #3B4455;\n",
              "      fill: #D2E3FC;\n",
              "    }\n",
              "\n",
              "    [theme=dark] .colab-df-convert:hover {\n",
              "      background-color: #434B5C;\n",
              "      box-shadow: 0px 1px 3px 1px rgba(0, 0, 0, 0.15);\n",
              "      filter: drop-shadow(0px 1px 2px rgba(0, 0, 0, 0.3));\n",
              "      fill: #FFFFFF;\n",
              "    }\n",
              "  </style>\n",
              "\n",
              "      <script>\n",
              "        const buttonEl =\n",
              "          document.querySelector('#df-25b40321-c93e-429c-93bd-3f8be1e27914 button.colab-df-convert');\n",
              "        buttonEl.style.display =\n",
              "          google.colab.kernel.accessAllowed ? 'block' : 'none';\n",
              "\n",
              "        async function convertToInteractive(key) {\n",
              "          const element = document.querySelector('#df-25b40321-c93e-429c-93bd-3f8be1e27914');\n",
              "          const dataTable =\n",
              "            await google.colab.kernel.invokeFunction('convertToInteractive',\n",
              "                                                     [key], {});\n",
              "          if (!dataTable) return;\n",
              "\n",
              "          const docLinkHtml = 'Like what you see? Visit the ' +\n",
              "            '<a target=\"_blank\" href=https://colab.research.google.com/notebooks/data_table.ipynb>data table notebook</a>'\n",
              "            + ' to learn more about interactive tables.';\n",
              "          element.innerHTML = '';\n",
              "          dataTable['output_type'] = 'display_data';\n",
              "          await google.colab.output.renderOutput(dataTable, element);\n",
              "          const docLink = document.createElement('div');\n",
              "          docLink.innerHTML = docLinkHtml;\n",
              "          element.appendChild(docLink);\n",
              "        }\n",
              "      </script>\n",
              "    </div>\n",
              "  </div>\n",
              "  "
            ]
          },
          "metadata": {},
          "execution_count": 54
        }
      ],
      "source": [
        "import matplotlib.pyplot as plt\n",
        "import pandas as pd\n",
        "from sodapy import Socrata\n",
        "client = Socrata('www.datos.gov.co', None)\n",
        "results = client.get('32sa-8pi3')\n",
        "datos = pd.DataFrame.from_records(results)\n",
        "datos.head() # Se imprimen las primeras cinco filas del dataset."
      ]
    },
    {
      "cell_type": "markdown",
      "source": [
        "2.  Calcular \\\\\n",
        "    a. Media \\\\\n",
        "    b. Mediana \\\\\n",
        "    c. Desviación estándar \\\\\n",
        "    d. Máximo \\\\\n",
        "    e. Mínimo \\\\\n",
        "    f. Máximo \\\\\n",
        "    g. Rango \\\\"
      ],
      "metadata": {
        "id": "LfcVSvluNzJe"
      }
    },
    {
      "cell_type": "code",
      "source": [
        "# Se realiza la limpieza y las transformaciones necesarias al dataset.\n",
        "datos_arreglada=datos.dropna(axis=0, how='any') # Se borran los valores nulos.\n",
        "datos_arreglada['valor'] = datos_arreglada['valor'].astype(float) # Se convierte el tipo de los datos de la columna 'valor' del dataframe a tipo real.\n",
        "datos_arreglada['vigenciadesde'] = pd.to_datetime(datos_arreglada['vigenciadesde']) # Se convierte el tipo de los datos de la columna 'vigenciadesde' del dataframe a objeto de fecha y hora.\n",
        "datos_arreglada['vigenciahasta'] = pd.to_datetime(datos_arreglada['vigenciahasta']) # Se convierte el tipo de los datos de la columna 'vigenciahasta' del dataframe a objeto de fecha y hora.\n",
        "\n",
        "# Se calcula lo propuesto anteriormente para presentar una descripción de los datos de la columna 'valor' del dataframe.\n",
        "print('Valores descriptivos de la columna valor del dataframe:')\n",
        "dic={'Media': datos_arreglada.valor.mean(),\n",
        "     'Mediana':datos_arreglada.valor.median(),\n",
        "     'Desviación estándar':datos_arreglada.valor.std(),\n",
        "     'Máximo': datos_arreglada.valor.max(),\n",
        "     'Mínimo':datos_arreglada.valor.min(),\n",
        "     'Rango': datos_arreglada.valor.max()-datos_arreglada.valor.min()} # Se crea un diccionario con los valores descriptivos del dataframe.\n",
        "\n",
        "serie=pd.Series(dic) # Se crea una serie a partir del diccionario anterior.\n",
        "print(round(serie, 2)) # Se imprime la serie redondeando los valores a dos decimales."
      ],
      "metadata": {
        "id": "8sZ8jz-aOyi1",
        "colab": {
          "base_uri": "https://localhost:8080/"
        },
        "outputId": "701ea3b7-7edd-4c0e-c946-0b596a84e444"
      },
      "execution_count": 55,
      "outputs": [
        {
          "output_type": "stream",
          "name": "stdout",
          "text": [
            "Valores descriptivos de la columna valor del dataframe:\n",
            "Media                  3042.38\n",
            "Mediana                2972.52\n",
            "Desviación estándar     730.69\n",
            "Máximo                 5061.21\n",
            "Mínimo                 1846.12\n",
            "Rango                  3215.09\n",
            "dtype: float64\n"
          ]
        }
      ]
    },
    {
      "cell_type": "markdown",
      "source": [
        "3. Presentar el resumen de los datos numéricos"
      ],
      "metadata": {
        "id": "Je_rfa9tO-iE"
      }
    },
    {
      "cell_type": "code",
      "source": [
        "print('-------------------------------------------------------------------------')\n",
        "print('Resumen del dataset tal cual como se cargó de datos.gov. \\n', datos.describe())\n",
        "print('-------------------------------------------------------------------------')\n",
        "print('Resumen del dataset una vez realizada la limpieza y transformación de los datos. \\n',datos_arreglada.describe())\n",
        "print('-------------------------------------------------------------------------')"
      ],
      "metadata": {
        "id": "alk6--dBPFyX",
        "colab": {
          "base_uri": "https://localhost:8080/"
        },
        "outputId": "5c850517-7a92-4591-e0fb-fc4a5ba81090"
      },
      "execution_count": 56,
      "outputs": [
        {
          "output_type": "stream",
          "name": "stdout",
          "text": [
            "-------------------------------------------------------------------------\n",
            "Resumen del dataset tal cual como se cargó de datos.gov. \n",
            "           valor unidad            vigenciadesde            vigenciahasta\n",
            "count      1000   1000                     1000                     1000\n",
            "unique      998      1                     1000                     1000\n",
            "top     2930.17    COP  2022-12-22T00:00:00.000  2022-12-22T00:00:00.000\n",
            "freq          2   1000                        1                        1\n",
            "-------------------------------------------------------------------------\n",
            "Resumen del dataset una vez realizada la limpieza y transformación de los datos. \n",
            "              valor\n",
            "count  1000.000000\n",
            "mean   3042.376510\n",
            "std     730.689006\n",
            "min    1846.120000\n",
            "25%    2500.497500\n",
            "50%    2972.525000\n",
            "75%    3646.340000\n",
            "max    5061.210000\n",
            "-------------------------------------------------------------------------\n"
          ]
        }
      ]
    },
    {
      "cell_type": "markdown",
      "source": [
        "\n",
        "**Respuesta al análisis.**\n",
        "\n",
        "  Al analizar el dataset cargado originalmente, se observa que el tipo de las columnas de los datos no es el que corresponde, dado que, la columna \"valor\" se identifica como un tipo de dato \"object\" en lugar de un tipo real. Así como el tipo de los datos de las columnas \"vigenciadesde\" y \"vigenciahasta\" del dataset también se identifica como un tipo de dato \"object\" en lugar de objeto de fecha y hora.\n",
        "\n",
        "  Para abordar esta discrepancia, se realizó una operación de conversión de los valores de las columnas al tipo de dato correcto, creando un nuevo dataframe llamado \"datos_arreglada\". Esta conversión permitió presentar de manera correcta el resumen de los datos numéricos del dataset."
      ],
      "metadata": {
        "id": "N2qQ5u0y-JxC"
      }
    },
    {
      "cell_type": "markdown",
      "source": [
        "4. Presentar la información general del dataset"
      ],
      "metadata": {
        "id": "URQPBBwGPGV4"
      }
    },
    {
      "cell_type": "code",
      "source": [
        "print('-------------------------------------------------------------------------')\n",
        "print('Información general del dataset tal cual como se cargó de datos.gov. \\n',datos.info())\n",
        "print('-------------------------------------------------------------------------')\n",
        "print('Información general del dataset una vez realizada la limpieza y transformación de los datos. \\n',datos_arreglada.info())\n",
        "print('-------------------------------------------------------------------------')"
      ],
      "metadata": {
        "id": "nBLnbPaGPQBF",
        "colab": {
          "base_uri": "https://localhost:8080/"
        },
        "outputId": "4464ccb4-a792-4161-9a94-d785b3da8b7c"
      },
      "execution_count": 57,
      "outputs": [
        {
          "output_type": "stream",
          "name": "stdout",
          "text": [
            "-------------------------------------------------------------------------\n",
            "<class 'pandas.core.frame.DataFrame'>\n",
            "RangeIndex: 1000 entries, 0 to 999\n",
            "Data columns (total 4 columns):\n",
            " #   Column         Non-Null Count  Dtype \n",
            "---  ------         --------------  ----- \n",
            " 0   valor          1000 non-null   object\n",
            " 1   unidad         1000 non-null   object\n",
            " 2   vigenciadesde  1000 non-null   object\n",
            " 3   vigenciahasta  1000 non-null   object\n",
            "dtypes: object(4)\n",
            "memory usage: 31.4+ KB\n",
            "Información general del dataset tal cual como se cargó de datos.gov. \n",
            " None\n",
            "-------------------------------------------------------------------------\n",
            "<class 'pandas.core.frame.DataFrame'>\n",
            "RangeIndex: 1000 entries, 0 to 999\n",
            "Data columns (total 4 columns):\n",
            " #   Column         Non-Null Count  Dtype         \n",
            "---  ------         --------------  -----         \n",
            " 0   valor          1000 non-null   float64       \n",
            " 1   unidad         1000 non-null   object        \n",
            " 2   vigenciadesde  1000 non-null   datetime64[ns]\n",
            " 3   vigenciahasta  1000 non-null   datetime64[ns]\n",
            "dtypes: datetime64[ns](2), float64(1), object(1)\n",
            "memory usage: 31.4+ KB\n",
            "Información general del dataset una vez realizada la limpieza y transformación de los datos. \n",
            " None\n",
            "-------------------------------------------------------------------------\n"
          ]
        }
      ]
    },
    {
      "cell_type": "markdown",
      "source": [
        "**Respuesta al análisis.**\n",
        "\n",
        "  Al analizar el dataset cargado originalmente, se observa que el tipo de las columnas de los datos no es el que corresponde, dado que, la columna \"valor\" se identifica como un tipo de dato \"object\" en lugar de un tipo real. Así como el tipo de los datos de las columnas \"vigenciadesde\" y \"vigenciahasta\" del dataset también se identifica como un tipo de dato \"object\" en lugar de objeto de fecha y hora.\n",
        "\n",
        "  Para abordar esta discrepancia, se realizó una operación de conversión de los valores de las columnas al tipo de dato correcto, creando un nuevo dataframe llamado \"datos_arreglada\". Esta conversión permitió presentar la información general del dataset de manera correcta."
      ],
      "metadata": {
        "id": "XO4Wg6ZI-vZk"
      }
    },
    {
      "cell_type": "markdown",
      "source": [
        "5. Hacer dos representaciones graficas que sean acordes a la naturaleza de los datos"
      ],
      "metadata": {
        "id": "jH-8dRi8PRJz"
      }
    },
    {
      "cell_type": "code",
      "source": [
        "# Diagrama de línea, valor numérico, tasa de cambio del peso colombiano frente al dólar por año.\n",
        "datos_arreglada.plot('vigenciadesde','valor')\n",
        "plt.title('Variación de la tasa de cambio del peso colombiano frente al dólar por año')\n",
        "plt.xlabel('Año de vigencia')\n",
        "plt.ylabel('Valor del peso colombiano')\n",
        "plt.grid()\n",
        "plt.show()"
      ],
      "metadata": {
        "id": "we9tvKTEPV4_",
        "colab": {
          "base_uri": "https://localhost:8080/",
          "height": 445
        },
        "outputId": "afb9d027-58e4-4287-dcac-1f801e976c0c"
      },
      "execution_count": 58,
      "outputs": [
        {
          "output_type": "display_data",
          "data": {
            "text/plain": [
              "<Figure size 640x480 with 1 Axes>"
            ],
            "image/png": "[encoded data removed]"
          },
          "metadata": {}
        }
      ]
    },
    {
      "cell_type": "markdown",
      "source": [
        "**Respuesta al análisis.** \\\\\n",
        "Este diagrama de línea nos muestra, el cambio del valor numérico de la tasa, de cambio del peso colombiano frente al dólar por año, además de este podemos extraer: \\\\\n",
        "Una tendencia al alza del precio del dólar respecto al peso colombiano; debido al aumento sostenido del precio del dólar desde el año 2014 hasta finales del 2022, lo indica cuál indica que, en general, el peso colombiano se ha depreciado frente al dólar en este período. Esta tendencia puede estar influenciada por diversos factores económicos, políticos o comerciales;\n",
        "y recientemente causados por la recesión mundial y la pandemia del covid-19 a partir del año 2020 hasta la actualidad, en dónde se ve mayor variación en la tasa de cambio, principalmente al alza. \\\\\n",
        "Esta alza, la cual sobrepaso el umbral de los $5000 peso a finales del año 2022, ha tenido implicaciones económicas para diferentes sectores y actores en Colombia. Por ejemplo, las importaciones se están volviendo más costosas, lo que puede afectar el poder adquisitivo y la competitividad de las empresas locales. Por otro lado, las exportaciones pueden beneficiarse de una tasa de cambio más favorable, lo que puede estimular la actividad exportadora."
      ],
      "metadata": {
        "id": "GIyCAxNaMaeC"
      }
    },
    {
      "cell_type": "code",
      "source": [
        "# Diagrama de cajas y bigotes; valor numérico, tasa de cambio del peso colombiano frente al dólar.\n",
        "datos_arreglada.boxplot()\n",
        "plt.title('Valor numérico con la tasa de cambio del peso colombiano frente al dolar')\n",
        "plt.ylabel('Valor del peso colombiano')\n",
        "plt.show()"
      ],
      "metadata": {
        "colab": {
          "base_uri": "https://localhost:8080/",
          "height": 453
        },
        "id": "Tkc-5JCyLTO8",
        "outputId": "04268e11-a6f1-4ab4-b840-dc05b06e5431"
      },
      "execution_count": 59,
      "outputs": [
        {
          "output_type": "display_data",
          "data": {
            "text/plain": [
              "<Figure size 640x480 with 1 Axes>"
            ],
            "image/png": "[encoded data removed]"
          },
          "metadata": {}
        }
      ]
    },
    {
      "cell_type": "markdown",
      "source": [
        "**Respuesta al análisis.** \\\\\n",
        "Este diagrama de cajas y bigotes nos muestra, la distribución del conjunto de datos correspondientes al valor numérico de la tasa de cambio del peso colombiano frente al dólar, entre los años 2014 al 2023. Proporcionando información sobre la mediana, los cuartiles y los valores atípicos de los datos. \\\\\n",
        "Respecto al análisis de este diagrama podemos inferir que: \\\\\n",
        "La tasa de cambio del peso colombiano frente al dólar tiene una distribución con una mediana de, 2972.525 pesos. Esto significa que el 50% de las observaciones de la tasa de cambio se encuentran por encima de este valor y el otro 50% se encuentran por debajo de este valor. \\\\\n",
        "Una variabilidad que se extiende desde 2500.498 pesos correspondientes al 25% hasta, 3646.340 pesos correspondientes al 75%. Sin valores atípicos presentes, podemos decir que la distribución de la tasa de cambio es relativamente estable, lo cual es muy bueno, y significa que es una moneda estable en la cual los inversionistas pueden confiar para futuras inversiones en el país."
      ],
      "metadata": {
        "id": "RoitmWF9dSYY"
      }
    },
    {
      "cell_type": "markdown",
      "source": [
        "6. Usando Socrata, Cargue un dataset que se encuentre en el portal de datos públicos de Colombia"
      ],
      "metadata": {
        "id": "VqCP1PrlPWQ2"
      }
    },
    {
      "cell_type": "code",
      "source": [
        "# Se usa un dataset sobre casos positivos de COVID-19 en Colombia.\n",
        "client = Socrata('www.datos.gov.co', None)\n",
        "results = client.get('gt2j-8ykr')\n",
        "datosCovid = pd.DataFrame.from_records(results)\n",
        "datosCovid.head() # Se imprimen las primeras cinco filas del dataset."
      ],
      "metadata": {
        "id": "ckTmZjHnPcOo",
        "colab": {
          "base_uri": "https://localhost:8080/",
          "height": 317
        },
        "outputId": "783c7ff8-ef5f-4ff5-bf02-116f3f630e6c"
      },
      "execution_count": 60,
      "outputs": [
        {
          "output_type": "stream",
          "name": "stderr",
          "text": [
            "WARNING:root:Requests made without an app_token will be subject to strict throttling limits.\n"
          ]
        },
        {
          "output_type": "execute_result",
          "data": {
            "text/plain": [
              "     fecha_reporte_web id_de_caso fecha_de_notificaci_n departamento  \\\n",
              "0  2021-03-04 00:00:00    2265685   2021-03-02 00:00:00           11   \n",
              "1  2021-03-04 00:00:00    2265686   2021-03-02 00:00:00           11   \n",
              "2  2021-03-04 00:00:00    2265687   2021-03-02 00:00:00           11   \n",
              "3  2021-03-04 00:00:00    2265688   2021-03-02 00:00:00           11   \n",
              "4  2021-03-04 00:00:00    2265689   2021-03-02 00:00:00           11   \n",
              "\n",
              "  departamento_nom ciudad_municipio ciudad_municipio_nom edad unidad_medida  \\\n",
              "0           BOGOTA            11001               BOGOTA   49             1   \n",
              "1           BOGOTA            11001               BOGOTA   49             1   \n",
              "2           BOGOTA            11001               BOGOTA   51             1   \n",
              "3           BOGOTA            11001               BOGOTA   51             1   \n",
              "4           BOGOTA            11001               BOGOTA   51             1   \n",
              "\n",
              "  sexo  ... ubicacion estado  recuperado fecha_inicio_sintomas  \\\n",
              "0    M  ...      Casa   Leve  Recuperado   2021-02-25 00:00:00   \n",
              "1    M  ...      Casa   Leve  Recuperado   2021-02-23 00:00:00   \n",
              "2    F  ...      Casa   Leve  Recuperado   2021-02-24 00:00:00   \n",
              "3    F  ...      Casa   Leve  Recuperado   2021-02-27 00:00:00   \n",
              "4    F  ...      Casa   Leve  Recuperado   2021-03-01 00:00:00   \n",
              "\n",
              "     fecha_diagnostico     fecha_recuperado tipo_recuperacion per_etn_  \\\n",
              "0  2021-03-03 00:00:00  2021-03-16 00:00:00            Tiempo        6   \n",
              "1  2021-03-03 00:00:00  2021-03-16 00:00:00            Tiempo        6   \n",
              "2  2021-03-03 00:00:00  2021-03-16 00:00:00            Tiempo        6   \n",
              "3  2021-03-03 00:00:00  2021-03-13 00:00:00            Tiempo        6   \n",
              "4  2021-03-03 00:00:00  2021-03-16 00:00:00            Tiempo        6   \n",
              "\n",
              "  nom_grupo_ fecha_muerte  \n",
              "0        NaN          NaN  \n",
              "1        NaN          NaN  \n",
              "2        NaN          NaN  \n",
              "3        NaN          NaN  \n",
              "4        NaN          NaN  \n",
              "\n",
              "[5 rows x 21 columns]"
            ],
            "text/html": [
              "\n",
              "  <div id=\"df-f04ba695-c0da-40f1-821d-b088340d629e\">\n",
              "    <div class=\"colab-df-container\">\n",
              "      <div>\n",
              "<style scoped>\n",
              "    .dataframe tbody tr th:only-of-type {\n",
              "        vertical-align: middle;\n",
              "    }\n",
              "\n",
              "    .dataframe tbody tr th {\n",
              "        vertical-align: top;\n",
              "    }\n",
              "\n",
              "    .dataframe thead th {\n",
              "        text-align: right;\n",
              "    }\n",
              "</style>\n",
              "<table border=\"1\" class=\"dataframe\">\n",
              "  <thead>\n",
              "    <tr style=\"text-align: right;\">\n",
              "      <th></th>\n",
              "      <th>fecha_reporte_web</th>\n",
              "      <th>id_de_caso</th>\n",
              "      <th>fecha_de_notificaci_n</th>\n",
              "      <th>departamento</th>\n",
              "      <th>departamento_nom</th>\n",
              "      <th>ciudad_municipio</th>\n",
              "      <th>ciudad_municipio_nom</th>\n",
              "      <th>edad</th>\n",
              "      <th>unidad_medida</th>\n",
              "      <th>sexo</th>\n",
              "      <th>...</th>\n",
              "      <th>ubicacion</th>\n",
              "      <th>estado</th>\n",
              "      <th>recuperado</th>\n",
              "      <th>fecha_inicio_sintomas</th>\n",
              "      <th>fecha_diagnostico</th>\n",
              "      <th>fecha_recuperado</th>\n",
              "      <th>tipo_recuperacion</th>\n",
              "      <th>per_etn_</th>\n",
              "      <th>nom_grupo_</th>\n",
              "      <th>fecha_muerte</th>\n",
              "    </tr>\n",
              "  </thead>\n",
              "  <tbody>\n",
              "    <tr>\n",
              "      <th>0</th>\n",
              "      <td>2021-03-04 00:00:00</td>\n",
              "      <td>2265685</td>\n",
              "      <td>2021-03-02 00:00:00</td>\n",
              "      <td>11</td>\n",
              "      <td>BOGOTA</td>\n",
              "      <td>11001</td>\n",
              "      <td>BOGOTA</td>\n",
              "      <td>49</td>\n",
              "      <td>1</td>\n",
              "      <td>M</td>\n",
              "      <td>...</td>\n",
              "      <td>Casa</td>\n",
              "      <td>Leve</td>\n",
              "      <td>Recuperado</td>\n",
              "      <td>2021-02-25 00:00:00</td>\n",
              "      <td>2021-03-03 00:00:00</td>\n",
              "      <td>2021-03-16 00:00:00</td>\n",
              "      <td>Tiempo</td>\n",
              "      <td>6</td>\n",
              "      <td>NaN</td>\n",
              "      <td>NaN</td>\n",
              "    </tr>\n",
              "    <tr>\n",
              "      <th>1</th>\n",
              "      <td>2021-03-04 00:00:00</td>\n",
              "      <td>2265686</td>\n",
              "      <td>2021-03-02 00:00:00</td>\n",
              "      <td>11</td>\n",
              "      <td>BOGOTA</td>\n",
              "      <td>11001</td>\n",
              "      <td>BOGOTA</td>\n",
              "      <td>49</td>\n",
              "      <td>1</td>\n",
              "      <td>M</td>\n",
              "      <td>...</td>\n",
              "      <td>Casa</td>\n",
              "      <td>Leve</td>\n",
              "      <td>Recuperado</td>\n",
              "      <td>2021-02-23 00:00:00</td>\n",
              "      <td>2021-03-03 00:00:00</td>\n",
              "      <td>2021-03-16 00:00:00</td>\n",
              "      <td>Tiempo</td>\n",
              "      <td>6</td>\n",
              "      <td>NaN</td>\n",
              "      <td>NaN</td>\n",
              "    </tr>\n",
              "    <tr>\n",
              "      <th>2</th>\n",
              "      <td>2021-03-04 00:00:00</td>\n",
              "      <td>2265687</td>\n",
              "      <td>2021-03-02 00:00:00</td>\n",
              "      <td>11</td>\n",
              "      <td>BOGOTA</td>\n",
              "      <td>11001</td>\n",
              "      <td>BOGOTA</td>\n",
              "      <td>51</td>\n",
              "      <td>1</td>\n",
              "      <td>F</td>\n",
              "      <td>...</td>\n",
              "      <td>Casa</td>\n",
              "      <td>Leve</td>\n",
              "      <td>Recuperado</td>\n",
              "      <td>2021-02-24 00:00:00</td>\n",
              "      <td>2021-03-03 00:00:00</td>\n",
              "      <td>2021-03-16 00:00:00</td>\n",
              "      <td>Tiempo</td>\n",
              "      <td>6</td>\n",
              "      <td>NaN</td>\n",
              "      <td>NaN</td>\n",
              "    </tr>\n",
              "    <tr>\n",
              "      <th>3</th>\n",
              "      <td>2021-03-04 00:00:00</td>\n",
              "      <td>2265688</td>\n",
              "      <td>2021-03-02 00:00:00</td>\n",
              "      <td>11</td>\n",
              "      <td>BOGOTA</td>\n",
              "      <td>11001</td>\n",
              "      <td>BOGOTA</td>\n",
              "      <td>51</td>\n",
              "      <td>1</td>\n",
              "      <td>F</td>\n",
              "      <td>...</td>\n",
              "      <td>Casa</td>\n",
              "      <td>Leve</td>\n",
              "      <td>Recuperado</td>\n",
              "      <td>2021-02-27 00:00:00</td>\n",
              "      <td>2021-03-03 00:00:00</td>\n",
              "      <td>2021-03-13 00:00:00</td>\n",
              "      <td>Tiempo</td>\n",
              "      <td>6</td>\n",
              "      <td>NaN</td>\n",
              "      <td>NaN</td>\n",
              "    </tr>\n",
              "    <tr>\n",
              "      <th>4</th>\n",
              "      <td>2021-03-04 00:00:00</td>\n",
              "      <td>2265689</td>\n",
              "      <td>2021-03-02 00:00:00</td>\n",
              "      <td>11</td>\n",
              "      <td>BOGOTA</td>\n",
              "      <td>11001</td>\n",
              "      <td>BOGOTA</td>\n",
              "      <td>51</td>\n",
              "      <td>1</td>\n",
              "      <td>F</td>\n",
              "      <td>...</td>\n",
              "      <td>Casa</td>\n",
              "      <td>Leve</td>\n",
              "      <td>Recuperado</td>\n",
              "      <td>2021-03-01 00:00:00</td>\n",
              "      <td>2021-03-03 00:00:00</td>\n",
              "      <td>2021-03-16 00:00:00</td>\n",
              "      <td>Tiempo</td>\n",
              "      <td>6</td>\n",
              "      <td>NaN</td>\n",
              "      <td>NaN</td>\n",
              "    </tr>\n",
              "  </tbody>\n",
              "</table>\n",
              "<p>5 rows × 21 columns</p>\n",
              "</div>\n",
              "      <button class=\"colab-df-convert\" onclick=\"convertToInteractive('df-f04ba695-c0da-40f1-821d-b088340d629e')\"\n",
              "              title=\"Convert this dataframe to an interactive table.\"\n",
              "              style=\"display:none;\">\n",
              "        \n",
              "  <svg xmlns=\"http://www.w3.org/2000/svg\" height=\"24px\"viewBox=\"0 0 24 24\"\n",
              "       width=\"24px\">\n",
              "    <path d=\"M0 0h24v24H0V0z\" fill=\"none\"/>\n",
              "    <path d=\"M18.56 5.44l.94 2.06.94-2.06 2.06-.94-2.06-.94-.94-2.06-.94 2.06-2.06.94zm-11 1L8.5 8.5l.94-2.06 2.06-.94-2.06-.94L8.5 2.5l-.94 2.06-2.06.94zm10 10l.94 2.06.94-2.06 2.06-.94-2.06-.94-.94-2.06-.94 2.06-2.06.94z\"/><path d=\"M17.41 7.96l-1.37-1.37c-.4-.4-.92-.59-1.43-.59-.52 0-1.04.2-1.43.59L10.3 9.45l-7.72 7.72c-.78.78-.78 2.05 0 2.83L4 21.41c.39.39.9.59 1.41.59.51 0 1.02-.2 1.41-.59l7.78-7.78 2.81-2.81c.8-.78.8-2.07 0-2.86zM5.41 20L4 18.59l7.72-7.72 1.47 1.35L5.41 20z\"/>\n",
              "  </svg>\n",
              "      </button>\n",
              "      \n",
              "  <style>\n",
              "    .colab-df-container {\n",
              "      display:flex;\n",
              "      flex-wrap:wrap;\n",
              "      gap: 12px;\n",
              "    }\n",
              "\n",
              "    .colab-df-convert {\n",
              "      background-color: #E8F0FE;\n",
              "      border: none;\n",
              "      border-radius: 50%;\n",
              "      cursor: pointer;\n",
              "      display: none;\n",
              "      fill: #1967D2;\n",
              "      height: 32px;\n",
              "      padding: 0 0 0 0;\n",
              "      width: 32px;\n",
              "    }\n",
              "\n",
              "    .colab-df-convert:hover {\n",
              "      background-color: #E2EBFA;\n",
              "      box-shadow: 0px 1px 2px rgba(60, 64, 67, 0.3), 0px 1px 3px 1px rgba(60, 64, 67, 0.15);\n",
              "      fill: #174EA6;\n",
              "    }\n",
              "\n",
              "    [theme=dark] .colab-df-convert {\n",
              "      background-color: #3B4455;\n",
              "      fill: #D2E3FC;\n",
              "    }\n",
              "\n",
              "    [theme=dark] .colab-df-convert:hover {\n",
              "      background-color: #434B5C;\n",
              "      box-shadow: 0px 1px 3px 1px rgba(0, 0, 0, 0.15);\n",
              "      filter: drop-shadow(0px 1px 2px rgba(0, 0, 0, 0.3));\n",
              "      fill: #FFFFFF;\n",
              "    }\n",
              "  </style>\n",
              "\n",
              "      <script>\n",
              "        const buttonEl =\n",
              "          document.querySelector('#df-f04ba695-c0da-40f1-821d-b088340d629e button.colab-df-convert');\n",
              "        buttonEl.style.display =\n",
              "          google.colab.kernel.accessAllowed ? 'block' : 'none';\n",
              "\n",
              "        async function convertToInteractive(key) {\n",
              "          const element = document.querySelector('#df-f04ba695-c0da-40f1-821d-b088340d629e');\n",
              "          const dataTable =\n",
              "            await google.colab.kernel.invokeFunction('convertToInteractive',\n",
              "                                                     [key], {});\n",
              "          if (!dataTable) return;\n",
              "\n",
              "          const docLinkHtml = 'Like what you see? Visit the ' +\n",
              "            '<a target=\"_blank\" href=https://colab.research.google.com/notebooks/data_table.ipynb>data table notebook</a>'\n",
              "            + ' to learn more about interactive tables.';\n",
              "          element.innerHTML = '';\n",
              "          dataTable['output_type'] = 'display_data';\n",
              "          await google.colab.output.renderOutput(dataTable, element);\n",
              "          const docLink = document.createElement('div');\n",
              "          docLink.innerHTML = docLinkHtml;\n",
              "          element.appendChild(docLink);\n",
              "        }\n",
              "      </script>\n",
              "    </div>\n",
              "  </div>\n",
              "  "
            ]
          },
          "metadata": {},
          "execution_count": 60
        }
      ]
    },
    {
      "cell_type": "markdown",
      "source": [
        "7. Realice las tareas de limpieza y transformación necesarias"
      ],
      "metadata": {
        "id": "wo3rYYwTPcrS"
      }
    },
    {
      "cell_type": "code",
      "source": [
        "datosCovid.info() # Información general del dataset."
      ],
      "metadata": {
        "id": "oPI-SJjGPfbd",
        "colab": {
          "base_uri": "https://localhost:8080/"
        },
        "outputId": "2f12a10c-13ea-448f-a9f4-53b5d3485420"
      },
      "execution_count": 61,
      "outputs": [
        {
          "output_type": "stream",
          "name": "stdout",
          "text": [
            "<class 'pandas.core.frame.DataFrame'>\n",
            "RangeIndex: 1000 entries, 0 to 999\n",
            "Data columns (total 21 columns):\n",
            " #   Column                 Non-Null Count  Dtype \n",
            "---  ------                 --------------  ----- \n",
            " 0   fecha_reporte_web      1000 non-null   object\n",
            " 1   id_de_caso             1000 non-null   object\n",
            " 2   fecha_de_notificaci_n  1000 non-null   object\n",
            " 3   departamento           1000 non-null   object\n",
            " 4   departamento_nom       1000 non-null   object\n",
            " 5   ciudad_municipio       1000 non-null   object\n",
            " 6   ciudad_municipio_nom   1000 non-null   object\n",
            " 7   edad                   1000 non-null   object\n",
            " 8   unidad_medida          1000 non-null   object\n",
            " 9   sexo                   1000 non-null   object\n",
            " 10  fuente_tipo_contagio   1000 non-null   object\n",
            " 11  ubicacion              1000 non-null   object\n",
            " 12  estado                 1000 non-null   object\n",
            " 13  recuperado             1000 non-null   object\n",
            " 14  fecha_inicio_sintomas  1000 non-null   object\n",
            " 15  fecha_diagnostico      1000 non-null   object\n",
            " 16  fecha_recuperado       966 non-null    object\n",
            " 17  tipo_recuperacion      966 non-null    object\n",
            " 18  per_etn_               1000 non-null   object\n",
            " 19  nom_grupo_             15 non-null     object\n",
            " 20  fecha_muerte           35 non-null     object\n",
            "dtypes: object(21)\n",
            "memory usage: 164.2+ KB\n"
          ]
        }
      ]
    },
    {
      "cell_type": "code",
      "source": [
        "# Se realiza la limpieza y las transformaciones necesarias al dataset.\n",
        "datosCovid_arreglada=datosCovid.fillna(value=0) # Se reemplaza los valores nulos por el valor cero.\n",
        "datosCovid_arreglada['fecha_reporte_web'] = pd.to_datetime(datosCovid_arreglada['fecha_reporte_web']) # Se convierte el tipo de los datos de la columna 'fecha_reporte_web' del dataframe a objeto de fecha y hora.\n",
        "datosCovid_arreglada['id_de_caso'] = datosCovid_arreglada['id_de_caso'].astype(float) # Se convierte el tipo de los datos de la columna 'id_de_caso' del dataframe a tipo real.\n",
        "datosCovid_arreglada['fecha_de_notificaci_n'] = pd.to_datetime(datosCovid_arreglada['fecha_de_notificaci_n']) # Se convierte el tipo de los datos de la columna 'fecha_de_notificaci_n' del dataframe a objeto de fecha y hora.\n",
        "datosCovid_arreglada['departamento'] = datosCovid_arreglada['departamento'].astype(int) # Se convierte el tipo de los datos de la columna 'departamento' del dataframe a tipo entero.\n",
        "datosCovid_arreglada['ciudad_municipio'] = datosCovid_arreglada['ciudad_municipio'].astype(int) # Se convierte el tipo de los datos de la columna 'ciudad_municipio' del dataframe a tipo entero.\n",
        "datosCovid_arreglada['edad'] = datosCovid_arreglada['edad'].astype(int) # Se convierte el tipo de los datos de la columna 'edad' del dataframe a tipo entero.\n",
        "datosCovid_arreglada['unidad_medida'] = datosCovid_arreglada['unidad_medida'].astype(int) # Se convierte el tipo de los datos de la columna 'unidad_medida' del dataframe a tipo entero.\n",
        "datosCovid_arreglada['fecha_inicio_sintomas'] = pd.to_datetime(datosCovid_arreglada['fecha_inicio_sintomas']) # Se convierte el tipo de los datos de la columna 'fecha_inicio_sintomas' del dataframe a objeto de fecha y hora.\n",
        "datosCovid_arreglada['fecha_diagnostico'] = pd.to_datetime(datosCovid_arreglada['fecha_diagnostico']) # Se convierte el tipo de los datos de la columna 'fecha_diagnostico' del dataframe a objeto de fecha y hora.\n",
        "datosCovid_arreglada['fecha_recuperado'] = pd.to_datetime(datosCovid_arreglada['fecha_recuperado']) # Se convierte el tipo de los datos de la columna 'fecha_recuperado' del dataframe a objeto de fecha y hora.\n",
        "datosCovid_arreglada['per_etn_'] = datosCovid_arreglada['per_etn_'].astype(int) # Se convierte el tipo de los datos de la columna 'per_etn_' del dataframe a tipo entero.\n",
        "datosCovid_arreglada['fecha_muerte'] = pd.to_datetime(datosCovid_arreglada['fecha_muerte']) # Se convierte el tipo de los datos de la columna 'fecha_muerte' del dataframe a objeto de fecha y hora.\n",
        "\n",
        "datosCovid_arreglada.info() # Información general del dataset."
      ],
      "metadata": {
        "colab": {
          "base_uri": "https://localhost:8080/"
        },
        "id": "0LZO25hR3Cw5",
        "outputId": "f5fbe33a-db33-4e1e-cf53-ac1c5fe75ded"
      },
      "execution_count": 62,
      "outputs": [
        {
          "output_type": "stream",
          "name": "stdout",
          "text": [
            "<class 'pandas.core.frame.DataFrame'>\n",
            "RangeIndex: 1000 entries, 0 to 999\n",
            "Data columns (total 21 columns):\n",
            " #   Column                 Non-Null Count  Dtype         \n",
            "---  ------                 --------------  -----         \n",
            " 0   fecha_reporte_web      1000 non-null   datetime64[ns]\n",
            " 1   id_de_caso             1000 non-null   float64       \n",
            " 2   fecha_de_notificaci_n  1000 non-null   datetime64[ns]\n",
            " 3   departamento           1000 non-null   int64         \n",
            " 4   departamento_nom       1000 non-null   object        \n",
            " 5   ciudad_municipio       1000 non-null   int64         \n",
            " 6   ciudad_municipio_nom   1000 non-null   object        \n",
            " 7   edad                   1000 non-null   int64         \n",
            " 8   unidad_medida          1000 non-null   int64         \n",
            " 9   sexo                   1000 non-null   object        \n",
            " 10  fuente_tipo_contagio   1000 non-null   object        \n",
            " 11  ubicacion              1000 non-null   object        \n",
            " 12  estado                 1000 non-null   object        \n",
            " 13  recuperado             1000 non-null   object        \n",
            " 14  fecha_inicio_sintomas  1000 non-null   datetime64[ns]\n",
            " 15  fecha_diagnostico      1000 non-null   datetime64[ns]\n",
            " 16  fecha_recuperado       1000 non-null   datetime64[ns]\n",
            " 17  tipo_recuperacion      1000 non-null   object        \n",
            " 18  per_etn_               1000 non-null   int64         \n",
            " 19  nom_grupo_             1000 non-null   object        \n",
            " 20  fecha_muerte           1000 non-null   datetime64[ns]\n",
            "dtypes: datetime64[ns](6), float64(1), int64(5), object(9)\n",
            "memory usage: 164.2+ KB\n"
          ]
        }
      ]
    },
    {
      "cell_type": "markdown",
      "source": [
        "8. Presentar el dataset, mostrando datos estadísticos y gráficas"
      ],
      "metadata": {
        "id": "m0vDbQ0_PhDf"
      }
    },
    {
      "cell_type": "code",
      "source": [
        "print('Resumen del dataset una vez realizada la limpieza y transformación de los datos.')\n",
        "datosCovid_arreglada.describe() # Resumen del dataset."
      ],
      "metadata": {
        "id": "31E0p-TuPjeG",
        "colab": {
          "base_uri": "https://localhost:8080/",
          "height": 318
        },
        "outputId": "ec4459e8-a0a1-4110-96f2-c8ae4be3f8d4"
      },
      "execution_count": 63,
      "outputs": [
        {
          "output_type": "stream",
          "name": "stdout",
          "text": [
            "Resumen del dataset una vez realizada la limpieza y transformación de los datos.\n"
          ]
        },
        {
          "output_type": "execute_result",
          "data": {
            "text/plain": [
              "         id_de_caso  departamento  ciudad_municipio         edad  \\\n",
              "count  1.000000e+03   1000.000000       1000.000000  1000.000000   \n",
              "mean   2.166259e+06   5238.717000      28637.881000    37.800000   \n",
              "std    4.352711e+05   9714.475467      26460.044424    18.907181   \n",
              "min    6.759180e+05      5.000000       5001.000000     1.000000   \n",
              "25%    2.096634e+06     25.000000       8001.000000    25.000000   \n",
              "50%    2.361872e+06     76.000000      14418.500000    33.000000   \n",
              "75%    2.389048e+06   8001.000000      50001.000000    51.000000   \n",
              "max    2.435324e+06  47001.000000      99001.000000    99.000000   \n",
              "\n",
              "       unidad_medida     per_etn_  \n",
              "count    1000.000000  1000.000000  \n",
              "mean        1.003000     5.912000  \n",
              "std         0.054717     0.616958  \n",
              "min         1.000000     1.000000  \n",
              "25%         1.000000     6.000000  \n",
              "50%         1.000000     6.000000  \n",
              "75%         1.000000     6.000000  \n",
              "max         2.000000     6.000000  "
            ],
            "text/html": [
              "\n",
              "  <div id=\"df-bc2d726e-ae7c-44ad-994e-57b9c34f3dc9\">\n",
              "    <div class=\"colab-df-container\">\n",
              "      <div>\n",
              "<style scoped>\n",
              "    .dataframe tbody tr th:only-of-type {\n",
              "        vertical-align: middle;\n",
              "    }\n",
              "\n",
              "    .dataframe tbody tr th {\n",
              "        vertical-align: top;\n",
              "    }\n",
              "\n",
              "    .dataframe thead th {\n",
              "        text-align: right;\n",
              "    }\n",
              "</style>\n",
              "<table border=\"1\" class=\"dataframe\">\n",
              "  <thead>\n",
              "    <tr style=\"text-align: right;\">\n",
              "      <th></th>\n",
              "      <th>id_de_caso</th>\n",
              "      <th>departamento</th>\n",
              "      <th>ciudad_municipio</th>\n",
              "      <th>edad</th>\n",
              "      <th>unidad_medida</th>\n",
              "      <th>per_etn_</th>\n",
              "    </tr>\n",
              "  </thead>\n",
              "  <tbody>\n",
              "    <tr>\n",
              "      <th>count</th>\n",
              "      <td>1.000000e+03</td>\n",
              "      <td>1000.000000</td>\n",
              "      <td>1000.000000</td>\n",
              "      <td>1000.000000</td>\n",
              "      <td>1000.000000</td>\n",
              "      <td>1000.000000</td>\n",
              "    </tr>\n",
              "    <tr>\n",
              "      <th>mean</th>\n",
              "      <td>2.166259e+06</td>\n",
              "      <td>5238.717000</td>\n",
              "      <td>28637.881000</td>\n",
              "      <td>37.800000</td>\n",
              "      <td>1.003000</td>\n",
              "      <td>5.912000</td>\n",
              "    </tr>\n",
              "    <tr>\n",
              "      <th>std</th>\n",
              "      <td>4.352711e+05</td>\n",
              "      <td>9714.475467</td>\n",
              "      <td>26460.044424</td>\n",
              "      <td>18.907181</td>\n",
              "      <td>0.054717</td>\n",
              "      <td>0.616958</td>\n",
              "    </tr>\n",
              "    <tr>\n",
              "      <th>min</th>\n",
              "      <td>6.759180e+05</td>\n",
              "      <td>5.000000</td>\n",
              "      <td>5001.000000</td>\n",
              "      <td>1.000000</td>\n",
              "      <td>1.000000</td>\n",
              "      <td>1.000000</td>\n",
              "    </tr>\n",
              "    <tr>\n",
              "      <th>25%</th>\n",
              "      <td>2.096634e+06</td>\n",
              "      <td>25.000000</td>\n",
              "      <td>8001.000000</td>\n",
              "      <td>25.000000</td>\n",
              "      <td>1.000000</td>\n",
              "      <td>6.000000</td>\n",
              "    </tr>\n",
              "    <tr>\n",
              "      <th>50%</th>\n",
              "      <td>2.361872e+06</td>\n",
              "      <td>76.000000</td>\n",
              "      <td>14418.500000</td>\n",
              "      <td>33.000000</td>\n",
              "      <td>1.000000</td>\n",
              "      <td>6.000000</td>\n",
              "    </tr>\n",
              "    <tr>\n",
              "      <th>75%</th>\n",
              "      <td>2.389048e+06</td>\n",
              "      <td>8001.000000</td>\n",
              "      <td>50001.000000</td>\n",
              "      <td>51.000000</td>\n",
              "      <td>1.000000</td>\n",
              "      <td>6.000000</td>\n",
              "    </tr>\n",
              "    <tr>\n",
              "      <th>max</th>\n",
              "      <td>2.435324e+06</td>\n",
              "      <td>47001.000000</td>\n",
              "      <td>99001.000000</td>\n",
              "      <td>99.000000</td>\n",
              "      <td>2.000000</td>\n",
              "      <td>6.000000</td>\n",
              "    </tr>\n",
              "  </tbody>\n",
              "</table>\n",
              "</div>\n",
              "      <button class=\"colab-df-convert\" onclick=\"convertToInteractive('df-bc2d726e-ae7c-44ad-994e-57b9c34f3dc9')\"\n",
              "              title=\"Convert this dataframe to an interactive table.\"\n",
              "              style=\"display:none;\">\n",
              "        \n",
              "  <svg xmlns=\"http://www.w3.org/2000/svg\" height=\"24px\"viewBox=\"0 0 24 24\"\n",
              "       width=\"24px\">\n",
              "    <path d=\"M0 0h24v24H0V0z\" fill=\"none\"/>\n",
              "    <path d=\"M18.56 5.44l.94 2.06.94-2.06 2.06-.94-2.06-.94-.94-2.06-.94 2.06-2.06.94zm-11 1L8.5 8.5l.94-2.06 2.06-.94-2.06-.94L8.5 2.5l-.94 2.06-2.06.94zm10 10l.94 2.06.94-2.06 2.06-.94-2.06-.94-.94-2.06-.94 2.06-2.06.94z\"/><path d=\"M17.41 7.96l-1.37-1.37c-.4-.4-.92-.59-1.43-.59-.52 0-1.04.2-1.43.59L10.3 9.45l-7.72 7.72c-.78.78-.78 2.05 0 2.83L4 21.41c.39.39.9.59 1.41.59.51 0 1.02-.2 1.41-.59l7.78-7.78 2.81-2.81c.8-.78.8-2.07 0-2.86zM5.41 20L4 18.59l7.72-7.72 1.47 1.35L5.41 20z\"/>\n",
              "  </svg>\n",
              "      </button>\n",
              "      \n",
              "  <style>\n",
              "    .colab-df-container {\n",
              "      display:flex;\n",
              "      flex-wrap:wrap;\n",
              "      gap: 12px;\n",
              "    }\n",
              "\n",
              "    .colab-df-convert {\n",
              "      background-color: #E8F0FE;\n",
              "      border: none;\n",
              "      border-radius: 50%;\n",
              "      cursor: pointer;\n",
              "      display: none;\n",
              "      fill: #1967D2;\n",
              "      height: 32px;\n",
              "      padding: 0 0 0 0;\n",
              "      width: 32px;\n",
              "    }\n",
              "\n",
              "    .colab-df-convert:hover {\n",
              "      background-color: #E2EBFA;\n",
              "      box-shadow: 0px 1px 2px rgba(60, 64, 67, 0.3), 0px 1px 3px 1px rgba(60, 64, 67, 0.15);\n",
              "      fill: #174EA6;\n",
              "    }\n",
              "\n",
              "    [theme=dark] .colab-df-convert {\n",
              "      background-color: #3B4455;\n",
              "      fill: #D2E3FC;\n",
              "    }\n",
              "\n",
              "    [theme=dark] .colab-df-convert:hover {\n",
              "      background-color: #434B5C;\n",
              "      box-shadow: 0px 1px 3px 1px rgba(0, 0, 0, 0.15);\n",
              "      filter: drop-shadow(0px 1px 2px rgba(0, 0, 0, 0.3));\n",
              "      fill: #FFFFFF;\n",
              "    }\n",
              "  </style>\n",
              "\n",
              "      <script>\n",
              "        const buttonEl =\n",
              "          document.querySelector('#df-bc2d726e-ae7c-44ad-994e-57b9c34f3dc9 button.colab-df-convert');\n",
              "        buttonEl.style.display =\n",
              "          google.colab.kernel.accessAllowed ? 'block' : 'none';\n",
              "\n",
              "        async function convertToInteractive(key) {\n",
              "          const element = document.querySelector('#df-bc2d726e-ae7c-44ad-994e-57b9c34f3dc9');\n",
              "          const dataTable =\n",
              "            await google.colab.kernel.invokeFunction('convertToInteractive',\n",
              "                                                     [key], {});\n",
              "          if (!dataTable) return;\n",
              "\n",
              "          const docLinkHtml = 'Like what you see? Visit the ' +\n",
              "            '<a target=\"_blank\" href=https://colab.research.google.com/notebooks/data_table.ipynb>data table notebook</a>'\n",
              "            + ' to learn more about interactive tables.';\n",
              "          element.innerHTML = '';\n",
              "          dataTable['output_type'] = 'display_data';\n",
              "          await google.colab.output.renderOutput(dataTable, element);\n",
              "          const docLink = document.createElement('div');\n",
              "          docLink.innerHTML = docLinkHtml;\n",
              "          element.appendChild(docLink);\n",
              "        }\n",
              "      </script>\n",
              "    </div>\n",
              "  </div>\n",
              "  "
            ]
          },
          "metadata": {},
          "execution_count": 63
        }
      ]
    },
    {
      "cell_type": "code",
      "source": [
        "# Se calculan datos estadísticos relevantes del dataset sobre casos positivos de COVID-19 en Colombia para presentar una descripción de los datos.\n",
        "print('Valores descriptivos de la columna \"edad\" del dataframe:')\n",
        "dicCovid={'Media': datosCovid_arreglada.edad.mean(),\n",
        "     'Mediana':datosCovid_arreglada.edad.median(),\n",
        "     'Desviación estándar':datosCovid_arreglada.edad.std(),\n",
        "     'Máximo': datosCovid_arreglada.edad.max(),\n",
        "     'Mínimo':datosCovid_arreglada.edad.min(),\n",
        "     'Cuartil 3 (75%)': datosCovid_arreglada.edad.quantile(0.75)} # Se crea un diccionario con los valores descriptivos del dataframe.\n",
        "\n",
        "serieCovid=pd.Series(dicCovid) # Se crea una serie a partir del diccionario anterior.\n",
        "print(serieCovid.astype(int)) # Se imprime la serie con valores enteros."
      ],
      "metadata": {
        "colab": {
          "base_uri": "https://localhost:8080/"
        },
        "id": "HlAAW6QEgr6y",
        "outputId": "3b259ee7-aa30-4ff0-882d-84146fb405ef"
      },
      "execution_count": 64,
      "outputs": [
        {
          "output_type": "stream",
          "name": "stdout",
          "text": [
            "Valores descriptivos de la columna \"edad\" del dataframe:\n",
            "Media                  37\n",
            "Mediana                33\n",
            "Desviación estándar    18\n",
            "Máximo                 99\n",
            "Mínimo                  1\n",
            "Cuartil 3 (75%)        51\n",
            "dtype: int64\n"
          ]
        }
      ]
    },
    {
      "cell_type": "markdown",
      "source": [
        "**Respuesta al análisis.**\n",
        "\n",
        "Basándonos en los datos estadísticos proporcionados del dataset de casos positivos de COVID-19 en Colombia, en particular, los datos relacionados con las edades, se pueden extraer las siguientes conclusiones e interpretaciones:\n",
        "\n",
        "*   La media de las edades de los casos positivos de COVID-19 en Colombia es de 37 años. Esto indica qué las personas contagiadas de COVID-19 en Colombia tienen una media de edad relativamente joven pertenecientes a edad laboral, con pocas personas del grupo poblacional de adultos mayores.\n",
        "\n",
        "*   La desviación estándar de 18 años indica la dispersión de las edades de los casos positivos de COVID-19 con respecto a la media.\n",
        "\n",
        "*   La mediana de las edades de los casos positivos de COVID-19 es de 33 años. Esta representa el valor central de las edades cuando se ordenan de menor a mayor. En este caso, el 50% de los casos tienen una edad menor o igual a 33 años, y el otro 50% tiene una edad mayor o igual a 33 años. Además, esta proporciona una medida de tendencia central que no se ve afectada por valores extremos o atípicos como personas muy jóvenes o adultos mayores que sobrepasan los 80 años.\n",
        "\n",
        "*   El valor máximo de 99 indica que la edad más alta registrada en los casos positivos de COVID-19 es de 99 años. El valor mínimo de 1 indica que la edad más baja registrada es de 1 año. Estos valores proporcionan información sobre el rango de edades de las personas contagiadas de COVID-19 en Colombia.\n",
        "\n",
        "*   El cuartil 3 (Q3) perteneciente a 51 años indica que el 75% de los casos positivos de COVID-19 tienen una edad menor o igual a 51 años. Esto indica que hay un 25% de los casos con edades superiores a este valor y que además se catalogan como población de riesgo al ser mayores de 51 años y que, por lo tanto, son más propensos a sufrir fuertes síntomas por el contagio o incluso el fallecimiento."
      ],
      "metadata": {
        "id": "NuL2L_-PiLN6"
      }
    },
    {
      "cell_type": "code",
      "source": [
        "# Histograma casos positivos de COVID-19 en Colombia por edades.\n",
        "datosCovid_arreglada.edad.hist(bins=20)\n",
        "plt.xticks(range(0,105,5))\n",
        "plt.title('Casos positivos de covid 19 en Colombia por edades')\n",
        "plt.axvline(datosCovid_arreglada.edad.median(), ymin=0.0, ymax=0.9,color='r')\n",
        "plt.ylabel('Número de casos positivos por covid-19')\n",
        "plt.xlabel('Intervalos de edades')\n",
        "plt.show()"
      ],
      "metadata": {
        "colab": {
          "base_uri": "https://localhost:8080/",
          "height": 472
        },
        "id": "bsuMeZYNja_C",
        "outputId": "dba8a973-1915-474d-cc9f-47b1a69f3886"
      },
      "execution_count": 65,
      "outputs": [
        {
          "output_type": "display_data",
          "data": {
            "text/plain": [
              "<Figure size 640x480 with 1 Axes>"
            ],
            "image/png": "[encoded data removed]"
          },
          "metadata": {}
        }
      ]
    },
    {
      "cell_type": "markdown",
      "source": [
        "**Respuesta al análisis.**\n",
        "\n",
        "Este histograma nos muestra, la distribución de una variable en intervalos o rangos específicos. En este caso, un histograma de los casos positivos de COVID-19 en Colombia por edades. El eje horizontal se representa los intervalos de edades, mientras que el eje vertical muestra la frecuencia o el número de casos en cada intervalo y la línea roja muestra la mediana que divide la población en la mitad o el 50%.\n",
        "\n",
        "Respecto al análisis de este histograma podemos inferir que:\n",
        "\n",
        "Se identifica que el intervalo de edades con la mayor frecuencia (moda) es aproximadamente entre 26 a 31 con y la mediana de 33 años que nos indica que la distribución de las edades tiende a estar ligeramente sesgada hacia la derecha o hacia edades más bajas menores a 50 años. De lo anterior podemos decir que en este intervalo (de 1 a 50 años) se encuentra la mayoría de la población de casos positivos de COVID-19 en Colombia.\n",
        "\n",
        "También se evidencia que las edades de los casos están dispersos en un rango amplio de edades, lo que muestra que los casos positivos de COVID-19 afectan a personas de diferentes grupos de edad, desde niños pequeños hasta personas mayores.\n",
        "\n"
      ],
      "metadata": {
        "id": "eop0hhD9hLdv"
      }
    },
    {
      "cell_type": "code",
      "source": [
        "# Diagrama de cajas y bigotes; edades casos positivos de COVID-19 en Colombia.\n",
        "plt.boxplot(datosCovid_arreglada['edad'])\n",
        "plt.title('Edades casos positivos de COVID-19 en Colombia')\n",
        "plt.ylabel('Años')\n",
        "plt.xticks([1], ['Variable edad'])\n",
        "plt.grid()\n",
        "plt.show()"
      ],
      "metadata": {
        "colab": {
          "base_uri": "https://localhost:8080/",
          "height": 452
        },
        "id": "QLHPdyTEe7qm",
        "outputId": "7fe33bb3-978b-4781-aa93-49e93c27357c"
      },
      "execution_count": 66,
      "outputs": [
        {
          "output_type": "display_data",
          "data": {
            "text/plain": [
              "<Figure size 640x480 with 1 Axes>"
            ],
            "image/png": "[encoded data removed]"
          },
          "metadata": {}
        }
      ]
    },
    {
      "cell_type": "markdown",
      "source": [
        "**Respuesta al análisis.**\n",
        "\n",
        "Este diagrama de cajas y bigotes nos muestra, la distribución del conjunto de datos correspondientes a las edades de casos positivos de COVID-19 en Colombia. Proporcionando información sobre la mediana, los cuartiles y los valores atípicos de los datos.\n",
        "\n",
        "Respecto al análisis de este diagrama podemos inferir que:\n",
        "\n",
        "En cuanto a la caja (rango inter cuartil) muestra que el 50% central de los casos se encuentra entre Q1 (alrededor de 25 años) y Q3 (51 años). Esto indica como ya sé mencionó que la mayoría de los casos se concentran en este rango de edades.\n",
        "\n",
        "Además, también se logró observar que se poseen varios datos atípicos qué se encuentran más allá de los bigotes, se representan como puntos individuales o asteriscos en el gráfico. Los cuales indican observaciones excepcionales o inusuales en términos de edad. De modo que se puede estimar qué las edades superiores a 90 años son valores atípicos en los casos positivos por COVID-19 en Colombia.\n"
      ],
      "metadata": {
        "id": "XEvqtqlLCnDq"
      }
    },
    {
      "cell_type": "code",
      "source": [
        "# Se cuenta los posibles valores que puede tomar la variable en la columna 'recuperado' del dataframe y se realiza la correspondiente limpieza de los datos.\n",
        "FalleVSRecupe=datosCovid_arreglada[\"recuperado\"].value_counts(ascending=False)\n",
        "del(FalleVSRecupe['N/A'])\n",
        "print(FalleVSRecupe)\n",
        "\n",
        "# Diagrama circular o de sectores porcentaje de recuperados y fallecidos por COVID-19 en Colombia.\n",
        "plt.pie(FalleVSRecupe, labels=FalleVSRecupe.index, autopct='%1.1f%%')\n",
        "plt.title('Porcentaje de recuperados y fallecidos por COVID-19 en Colombia')\n",
        "plt.show()"
      ],
      "metadata": {
        "colab": {
          "base_uri": "https://localhost:8080/",
          "height": 480
        },
        "id": "GCSwk1M4aFGY",
        "outputId": "244f7d1c-57e8-483b-f7b4-8d3a8792c408"
      },
      "execution_count": 67,
      "outputs": [
        {
          "output_type": "stream",
          "name": "stdout",
          "text": [
            "Recuperado    966\n",
            "Fallecido      27\n",
            "Name: recuperado, dtype: int64\n"
          ]
        },
        {
          "output_type": "display_data",
          "data": {
            "text/plain": [
              "<Figure size 640x480 with 1 Axes>"
            ],
            "image/png": "[encoded data removed]"
          },
          "metadata": {}
        }
      ]
    },
    {
      "cell_type": "markdown",
      "source": [
        "**Respuesta al análisis.**\n",
        "\n",
        "Este circular o de sectores nos muestra, la proporción o porcentaje de diferentes categorías en un conjunto de datos. En este caso, sobre el porcentaje de recuperados y fallecidos por COVID-19 en Colombia.\n",
        "\n",
        "Respecto al análisis de este diagrama podemos inferir que:\n",
        "\n",
        "*   Recuperado: El sector correspondiente a \"Recuperado\" representa el 97.3% del diagrama. Esto indica que la mayoría de los casos de COVID-19 en Colombia han resultado en recuperación.\n",
        "\n",
        "*   Fallecido: El sector correspondiente a \"Fallecido\" representa el 2.7% del diagrama. Esto indica que una proporción pequeña de los casos de COVID-19 en Colombia ha resultado en fallecimiento.\n",
        "\n",
        "En conclusión, podemos decir que Colombia tuvo un buen manejo de la pandemia, según lo que muestra el diagrama, porque la mayoría de casos de covid-19 han logrado recuperarse."
      ],
      "metadata": {
        "id": "CzcXCVQlXvFm"
      }
    },
    {
      "cell_type": "code",
      "source": [
        "# Se cuenta los posibles valores que puede tomar la variable en la columna 'departamento_nom' del dataframe.\n",
        "CantiMuni=datosCovid_arreglada[\"departamento_nom\"].value_counts(ascending=False)\n",
        "\n",
        "# Diagrama de barras, casos positivos de covid-19 en Colombia por departamento.\n",
        "CantiMuni.plot(kind='bar')\n",
        "plt.title('Casos positivos de covid 19 en Colombia por departamento')\n",
        "plt.xlabel('Departamentos')\n",
        "plt.ylabel('Número de casos positivos por covid-19')\n",
        "plt.grid()\n",
        "plt.show()"
      ],
      "metadata": {
        "colab": {
          "base_uri": "https://localhost:8080/",
          "height": 594
        },
        "id": "Arzq3Ybzzpbi",
        "outputId": "4338ad8b-f8d9-4366-b421-12f9b849f8e7"
      },
      "execution_count": 68,
      "outputs": [
        {
          "output_type": "display_data",
          "data": {
            "text/plain": [
              "<Figure size 640x480 with 1 Axes>"
            ],
            "image/png": "[encoded data removed]"
          },
          "metadata": {}
        }
      ]
    },
    {
      "cell_type": "markdown",
      "source": [
        "**Respuesta al análisis.**\n",
        "\n",
        "Este diagrama de barras nos muestra la frecuencia o cantidad de diferentes categorías en un conjunto de datos. En este caso, los casos positivos de COVID-19 en los municipios de Colombia. En donde el eje horizontal representa los municipios, mientras que el eje vertical representa la cantidad de casos positivos de COVID-19 en cada municipio.\n",
        "\n",
        "Respecto al análisis de este diagrama podemos inferir que:\n",
        "\n",
        "Este permitió comparar visualmente la cantidad de casos positivos en diferentes municipios. Podemos observar que hay una variación considerable en la cantidad de casos entre los municipios, destacando algunos con números significativamente más altos que otros.\n",
        "\n",
        "Como por ejemplo Barranquilla, que tiene la mayor cantidad de casos positivos con 370, lo cual es notablemente superior a los demás municipios y que demuestra la ineficiente labor del municipio para evitar los contagios.\n",
        "\n",
        "Además de evidenciar que algunos municipios tienen un número considerablemente menor de casos, como Chocó con solo 1 caso, lo que demuestra que a pesar de la poca población del Chocó, existe una muy buena labor y un plan de contingencia para evitar los contagios."
      ],
      "metadata": {
        "id": "MD133CiDvX60"
      }
    },
    {
      "cell_type": "code",
      "source": [
        "# Se realiza el filtrado del dataframe en la columna 'sexo' para separar los de género masculino y femenino.\n",
        "FemeninoData=datosCovid_arreglada[datosCovid_arreglada['sexo']=='F']\n",
        "MasculinoData=datosCovid_arreglada[datosCovid_arreglada['sexo']=='M']\n",
        "\n",
        "# Se cuenta los posibles valores que puede tomar la variable en la columna 'estado' del dataframe filtrado pertenecientes a los de sexo femenino.\n",
        "CantiEstadoF=FemeninoData[\"estado\"].value_counts(ascending=False)\n",
        "del(CantiEstadoF['N/A']) # Se realiza la correspondiente limpieza de los datos.\n",
        "\n",
        "# Se cuenta los posibles valores que puede tomar la variable en la columna 'estado' del dataframe filtrado pertenecientes a los de sexo masculino.\n",
        "CantiEstadoM=MasculinoData[\"estado\"].value_counts(ascending=False)\n",
        "del(CantiEstadoM['N/A']) # Se realiza la correspondiente limpieza de los datos.\n",
        "\n",
        "# Se crea un diccionario con los valores descriptivos de la columna 'estado' para los dos diferentes sexos.\n",
        "dicSexo={'Femenino':CantiEstadoF,\n",
        "     'Masculino':CantiEstadoM }\n",
        "\n",
        "dataFrameSexo=pd.DataFrame(dicSexo) # Se crea un data frame a partir del diccionario anterior.\n",
        "print('-------------------------------')\n",
        "print(dataFrameSexo) # Se imprime el data frame.\n",
        "print('-------------------------------')\n",
        "\n",
        "# Gráfica de barras agrupadas, estado de los contagiados por covid 19 dependiendo de su sexo (masculino o femenino).\n",
        "dataFrameSexo.plot(kind='bar')\n",
        "plt.title('Estado de los contagiados por covid 19 dependiendo de su sexo')\n",
        "plt.xlabel('Estado de los contagiados')\n",
        "plt.ylabel('Frecuencia estado de los contagiados')\n",
        "plt.grid()\n",
        "plt.show()"
      ],
      "metadata": {
        "colab": {
          "base_uri": "https://localhost:8080/",
          "height": 605
        },
        "id": "7W0FgDuJ3jNY",
        "outputId": "a991e486-e6b0-47b1-bb16-727cd8a8b7a1"
      },
      "execution_count": 69,
      "outputs": [
        {
          "output_type": "stream",
          "name": "stdout",
          "text": [
            "-------------------------------\n",
            "           Femenino  Masculino\n",
            "Leve            517        448\n",
            "Fallecido        13         14\n",
            "-------------------------------\n"
          ]
        },
        {
          "output_type": "display_data",
          "data": {
            "text/plain": [
              "<Figure size 640x480 with 1 Axes>"
            ],
            "image/png": "[encoded data removed]"
          },
          "metadata": {}
        }
      ]
    },
    {
      "cell_type": "markdown",
      "source": [
        "**Respuesta al análisis.**\n",
        "\n",
        "Esta gráfica de barras agrupadas nos muestra la comparación de diferentes categorías en función de múltiples variables. En este caso, el estado leve o fallecido de los casos positivos de COVID-19 en Colombia por sexo. En donde el eje horizontal se representan las categorías (leve y fallecido), mientras que en el eje vertical se representa la cantidad de casos positivos de COVID-19 en cada categoría y sexo.\n",
        "\n",
        "Respecto al análisis de este diagrama podemos inferir que:\n",
        "\n",
        "Para la categoría \"Leve\", se observa que tanto en el grupo femenino como en el masculino hay una cantidad considerable de casos. Sin embargo, el grupo femenino tiene una mayor cantidad de casos leves con 517, en comparación con el grupo masculino que tiene 448.\n",
        "\n",
        "En cuanto a la categoría \"Fallecido\", se puede observar que la cantidad de casos es mucho menor en ambos grupos. El grupo femenino registra 13 casos fallecidos, mientras que el grupo masculino registra 14 casos fallecidos.\n",
        "\n",
        "Por lo tanto, podemos concluir qué las personas de sexo masculino han sido más afectados por el covid-19 en Colombia."
      ],
      "metadata": {
        "id": "I-BRBc3-9c9N"
      }
    },
    {
      "cell_type": "markdown",
      "source": [
        "9. Se debe incluir mínimo una tabla pivote y una agrupación"
      ],
      "metadata": {
        "id": "c88VVobxPj5_"
      }
    },
    {
      "cell_type": "code",
      "source": [
        "# Se realiza la tabla pivote y se imprime.\n",
        "datosCovid_arreglada.pivot_table(values='edad', index=['departamento_nom'], columns=['fuente_tipo_contagio'],aggfunc='count')"
      ],
      "metadata": {
        "id": "3GPzRcA9PlGm",
        "colab": {
          "base_uri": "https://localhost:8080/",
          "height": 1000
        },
        "outputId": "98108acb-9bcd-4868-933b-752ea2008430"
      },
      "execution_count": 70,
      "outputs": [
        {
          "output_type": "execute_result",
          "data": {
            "text/plain": [
              "fuente_tipo_contagio  Comunitaria  Relacionado\n",
              "departamento_nom                              \n",
              "AMAZONAS                      4.0          4.0\n",
              "ANTIOQUIA                    28.0         30.0\n",
              "ARAUCA                        NaN          3.0\n",
              "ATLANTICO                    26.0         19.0\n",
              "BARRANQUILLA                194.0        176.0\n",
              "BOGOTA                        3.0          3.0\n",
              "BOLIVAR                       3.0          NaN\n",
              "BOYACA                       10.0          7.0\n",
              "CALDAS                       37.0         15.0\n",
              "CAQUETA                       3.0          NaN\n",
              "CARTAGENA                    15.0          3.0\n",
              "CASANARE                      2.0          2.0\n",
              "CAUCA                         8.0          1.0\n",
              "CESAR                        25.0         10.0\n",
              "CHOCO                         1.0          NaN\n",
              "CORDOBA                       5.0          3.0\n",
              "CUNDINAMARCA                 21.0         17.0\n",
              "GUAJIRA                       6.0          4.0\n",
              "HUILA                         4.0          7.0\n",
              "MAGDALENA                     8.0         10.0\n",
              "META                         10.0          5.0\n",
              "NARIÑO                       10.0          9.0\n",
              "NORTE SANTANDER              10.0          9.0\n",
              "PUTUMAYO                      1.0          1.0\n",
              "QUINDIO                       5.0         15.0\n",
              "RISARALDA                    10.0         10.0\n",
              "SANTANDER                    15.0         12.0\n",
              "STA MARTA D.E.               24.0         19.0\n",
              "SUCRE                         8.0          3.0\n",
              "TOLIMA                       13.0          1.0\n",
              "VALLE                        59.0         32.0\n",
              "VICHADA                       NaN          2.0"
            ],
            "text/html": [
              "\n",
              "  <div id=\"df-1cc344d2-e9f4-4339-999e-6b12515d9980\">\n",
              "    <div class=\"colab-df-container\">\n",
              "      <div>\n",
              "<style scoped>\n",
              "    .dataframe tbody tr th:only-of-type {\n",
              "        vertical-align: middle;\n",
              "    }\n",
              "\n",
              "    .dataframe tbody tr th {\n",
              "        vertical-align: top;\n",
              "    }\n",
              "\n",
              "    .dataframe thead th {\n",
              "        text-align: right;\n",
              "    }\n",
              "</style>\n",
              "<table border=\"1\" class=\"dataframe\">\n",
              "  <thead>\n",
              "    <tr style=\"text-align: right;\">\n",
              "      <th>fuente_tipo_contagio</th>\n",
              "      <th>Comunitaria</th>\n",
              "      <th>Relacionado</th>\n",
              "    </tr>\n",
              "    <tr>\n",
              "      <th>departamento_nom</th>\n",
              "      <th></th>\n",
              "      <th></th>\n",
              "    </tr>\n",
              "  </thead>\n",
              "  <tbody>\n",
              "    <tr>\n",
              "      <th>AMAZONAS</th>\n",
              "      <td>4.0</td>\n",
              "      <td>4.0</td>\n",
              "    </tr>\n",
              "    <tr>\n",
              "      <th>ANTIOQUIA</th>\n",
              "      <td>28.0</td>\n",
              "      <td>30.0</td>\n",
              "    </tr>\n",
              "    <tr>\n",
              "      <th>ARAUCA</th>\n",
              "      <td>NaN</td>\n",
              "      <td>3.0</td>\n",
              "    </tr>\n",
              "    <tr>\n",
              "      <th>ATLANTICO</th>\n",
              "      <td>26.0</td>\n",
              "      <td>19.0</td>\n",
              "    </tr>\n",
              "    <tr>\n",
              "      <th>BARRANQUILLA</th>\n",
              "      <td>194.0</td>\n",
              "      <td>176.0</td>\n",
              "    </tr>\n",
              "    <tr>\n",
              "      <th>BOGOTA</th>\n",
              "      <td>3.0</td>\n",
              "      <td>3.0</td>\n",
              "    </tr>\n",
              "    <tr>\n",
              "      <th>BOLIVAR</th>\n",
              "      <td>3.0</td>\n",
              "      <td>NaN</td>\n",
              "    </tr>\n",
              "    <tr>\n",
              "      <th>BOYACA</th>\n",
              "      <td>10.0</td>\n",
              "      <td>7.0</td>\n",
              "    </tr>\n",
              "    <tr>\n",
              "      <th>CALDAS</th>\n",
              "      <td>37.0</td>\n",
              "      <td>15.0</td>\n",
              "    </tr>\n",
              "    <tr>\n",
              "      <th>CAQUETA</th>\n",
              "      <td>3.0</td>\n",
              "      <td>NaN</td>\n",
              "    </tr>\n",
              "    <tr>\n",
              "      <th>CARTAGENA</th>\n",
              "      <td>15.0</td>\n",
              "      <td>3.0</td>\n",
              "    </tr>\n",
              "    <tr>\n",
              "      <th>CASANARE</th>\n",
              "      <td>2.0</td>\n",
              "      <td>2.0</td>\n",
              "    </tr>\n",
              "    <tr>\n",
              "      <th>CAUCA</th>\n",
              "      <td>8.0</td>\n",
              "      <td>1.0</td>\n",
              "    </tr>\n",
              "    <tr>\n",
              "      <th>CESAR</th>\n",
              "      <td>25.0</td>\n",
              "      <td>10.0</td>\n",
              "    </tr>\n",
              "    <tr>\n",
              "      <th>CHOCO</th>\n",
              "      <td>1.0</td>\n",
              "      <td>NaN</td>\n",
              "    </tr>\n",
              "    <tr>\n",
              "      <th>CORDOBA</th>\n",
              "      <td>5.0</td>\n",
              "      <td>3.0</td>\n",
              "    </tr>\n",
              "    <tr>\n",
              "      <th>CUNDINAMARCA</th>\n",
              "      <td>21.0</td>\n",
              "      <td>17.0</td>\n",
              "    </tr>\n",
              "    <tr>\n",
              "      <th>GUAJIRA</th>\n",
              "      <td>6.0</td>\n",
              "      <td>4.0</td>\n",
              "    </tr>\n",
              "    <tr>\n",
              "      <th>HUILA</th>\n",
              "      <td>4.0</td>\n",
              "      <td>7.0</td>\n",
              "    </tr>\n",
              "    <tr>\n",
              "      <th>MAGDALENA</th>\n",
              "      <td>8.0</td>\n",
              "      <td>10.0</td>\n",
              "    </tr>\n",
              "    <tr>\n",
              "      <th>META</th>\n",
              "      <td>10.0</td>\n",
              "      <td>5.0</td>\n",
              "    </tr>\n",
              "    <tr>\n",
              "      <th>NARIÑO</th>\n",
              "      <td>10.0</td>\n",
              "      <td>9.0</td>\n",
              "    </tr>\n",
              "    <tr>\n",
              "      <th>NORTE SANTANDER</th>\n",
              "      <td>10.0</td>\n",
              "      <td>9.0</td>\n",
              "    </tr>\n",
              "    <tr>\n",
              "      <th>PUTUMAYO</th>\n",
              "      <td>1.0</td>\n",
              "      <td>1.0</td>\n",
              "    </tr>\n",
              "    <tr>\n",
              "      <th>QUINDIO</th>\n",
              "      <td>5.0</td>\n",
              "      <td>15.0</td>\n",
              "    </tr>\n",
              "    <tr>\n",
              "      <th>RISARALDA</th>\n",
              "      <td>10.0</td>\n",
              "      <td>10.0</td>\n",
              "    </tr>\n",
              "    <tr>\n",
              "      <th>SANTANDER</th>\n",
              "      <td>15.0</td>\n",
              "      <td>12.0</td>\n",
              "    </tr>\n",
              "    <tr>\n",
              "      <th>STA MARTA D.E.</th>\n",
              "      <td>24.0</td>\n",
              "      <td>19.0</td>\n",
              "    </tr>\n",
              "    <tr>\n",
              "      <th>SUCRE</th>\n",
              "      <td>8.0</td>\n",
              "      <td>3.0</td>\n",
              "    </tr>\n",
              "    <tr>\n",
              "      <th>TOLIMA</th>\n",
              "      <td>13.0</td>\n",
              "      <td>1.0</td>\n",
              "    </tr>\n",
              "    <tr>\n",
              "      <th>VALLE</th>\n",
              "      <td>59.0</td>\n",
              "      <td>32.0</td>\n",
              "    </tr>\n",
              "    <tr>\n",
              "      <th>VICHADA</th>\n",
              "      <td>NaN</td>\n",
              "      <td>2.0</td>\n",
              "    </tr>\n",
              "  </tbody>\n",
              "</table>\n",
              "</div>\n",
              "      <button class=\"colab-df-convert\" onclick=\"convertToInteractive('df-1cc344d2-e9f4-4339-999e-6b12515d9980')\"\n",
              "              title=\"Convert this dataframe to an interactive table.\"\n",
              "              style=\"display:none;\">\n",
              "        \n",
              "  <svg xmlns=\"http://www.w3.org/2000/svg\" height=\"24px\"viewBox=\"0 0 24 24\"\n",
              "       width=\"24px\">\n",
              "    <path d=\"M0 0h24v24H0V0z\" fill=\"none\"/>\n",
              "    <path d=\"M18.56 5.44l.94 2.06.94-2.06 2.06-.94-2.06-.94-.94-2.06-.94 2.06-2.06.94zm-11 1L8.5 8.5l.94-2.06 2.06-.94-2.06-.94L8.5 2.5l-.94 2.06-2.06.94zm10 10l.94 2.06.94-2.06 2.06-.94-2.06-.94-.94-2.06-.94 2.06-2.06.94z\"/><path d=\"M17.41 7.96l-1.37-1.37c-.4-.4-.92-.59-1.43-.59-.52 0-1.04.2-1.43.59L10.3 9.45l-7.72 7.72c-.78.78-.78 2.05 0 2.83L4 21.41c.39.39.9.59 1.41.59.51 0 1.02-.2 1.41-.59l7.78-7.78 2.81-2.81c.8-.78.8-2.07 0-2.86zM5.41 20L4 18.59l7.72-7.72 1.47 1.35L5.41 20z\"/>\n",
              "  </svg>\n",
              "      </button>\n",
              "      \n",
              "  <style>\n",
              "    .colab-df-container {\n",
              "      display:flex;\n",
              "      flex-wrap:wrap;\n",
              "      gap: 12px;\n",
              "    }\n",
              "\n",
              "    .colab-df-convert {\n",
              "      background-color: #E8F0FE;\n",
              "      border: none;\n",
              "      border-radius: 50%;\n",
              "      cursor: pointer;\n",
              "      display: none;\n",
              "      fill: #1967D2;\n",
              "      height: 32px;\n",
              "      padding: 0 0 0 0;\n",
              "      width: 32px;\n",
              "    }\n",
              "\n",
              "    .colab-df-convert:hover {\n",
              "      background-color: #E2EBFA;\n",
              "      box-shadow: 0px 1px 2px rgba(60, 64, 67, 0.3), 0px 1px 3px 1px rgba(60, 64, 67, 0.15);\n",
              "      fill: #174EA6;\n",
              "    }\n",
              "\n",
              "    [theme=dark] .colab-df-convert {\n",
              "      background-color: #3B4455;\n",
              "      fill: #D2E3FC;\n",
              "    }\n",
              "\n",
              "    [theme=dark] .colab-df-convert:hover {\n",
              "      background-color: #434B5C;\n",
              "      box-shadow: 0px 1px 3px 1px rgba(0, 0, 0, 0.15);\n",
              "      filter: drop-shadow(0px 1px 2px rgba(0, 0, 0, 0.3));\n",
              "      fill: #FFFFFF;\n",
              "    }\n",
              "  </style>\n",
              "\n",
              "      <script>\n",
              "        const buttonEl =\n",
              "          document.querySelector('#df-1cc344d2-e9f4-4339-999e-6b12515d9980 button.colab-df-convert');\n",
              "        buttonEl.style.display =\n",
              "          google.colab.kernel.accessAllowed ? 'block' : 'none';\n",
              "\n",
              "        async function convertToInteractive(key) {\n",
              "          const element = document.querySelector('#df-1cc344d2-e9f4-4339-999e-6b12515d9980');\n",
              "          const dataTable =\n",
              "            await google.colab.kernel.invokeFunction('convertToInteractive',\n",
              "                                                     [key], {});\n",
              "          if (!dataTable) return;\n",
              "\n",
              "          const docLinkHtml = 'Like what you see? Visit the ' +\n",
              "            '<a target=\"_blank\" href=https://colab.research.google.com/notebooks/data_table.ipynb>data table notebook</a>'\n",
              "            + ' to learn more about interactive tables.';\n",
              "          element.innerHTML = '';\n",
              "          dataTable['output_type'] = 'display_data';\n",
              "          await google.colab.output.renderOutput(dataTable, element);\n",
              "          const docLink = document.createElement('div');\n",
              "          docLink.innerHTML = docLinkHtml;\n",
              "          element.appendChild(docLink);\n",
              "        }\n",
              "      </script>\n",
              "    </div>\n",
              "  </div>\n",
              "  "
            ]
          },
          "metadata": {},
          "execution_count": 70
        }
      ]
    },
    {
      "cell_type": "markdown",
      "source": [
        "Esta tabla pivote muestra el tipo de fuente de contagio de COVID-19 en Colombia por departamento. Las columnas \"fuente_tipo_contagio\" representan las dos categorías de fuentes de contagio: \"Comunitaria\" y \"Relacionado\". Estas categorías indican cómo se adquirió el virus en cada departamento.\n",
        "\n",
        "Los departamentos están listados en la columna \"departamento_nom\", y cada celda de la tabla indica la cantidad de casos reportados en esa combinación específica de departamento y tipo de fuente de contagio. La presencia de valores \"NaN\" indica que no se dispone de datos para esa combinación específica de departamento y tipo de fuente de contagio."
      ],
      "metadata": {
        "id": "TCYbalkL4zZY"
      }
    },
    {
      "cell_type": "code",
      "source": [
        "# Se realiza la tabla pivote y se imprime.\n",
        "PivoteSexRecupe=datosCovid_arreglada.pivot_table(values='edad', index=['sexo'], columns=['recuperado'],aggfunc='mean')\n",
        "del(PivoteSexRecupe['N/A']) # Se realiza la correspondiente limpieza de los datos.\n",
        "PivoteSexRecupe"
      ],
      "metadata": {
        "colab": {
          "base_uri": "https://localhost:8080/",
          "height": 143
        },
        "id": "I1MRbF45ee6C",
        "outputId": "639eb293-e31e-4481-97e4-671eef466f49"
      },
      "execution_count": 71,
      "outputs": [
        {
          "output_type": "execute_result",
          "data": {
            "text/plain": [
              "recuperado  Fallecido  Recuperado\n",
              "sexo                             \n",
              "F           69.538462   37.591876\n",
              "M           68.785714   35.748330"
            ],
            "text/html": [
              "\n",
              "  <div id=\"df-6cb54384-58aa-4cd7-bd17-ff9293618c6e\">\n",
              "    <div class=\"colab-df-container\">\n",
              "      <div>\n",
              "<style scoped>\n",
              "    .dataframe tbody tr th:only-of-type {\n",
              "        vertical-align: middle;\n",
              "    }\n",
              "\n",
              "    .dataframe tbody tr th {\n",
              "        vertical-align: top;\n",
              "    }\n",
              "\n",
              "    .dataframe thead th {\n",
              "        text-align: right;\n",
              "    }\n",
              "</style>\n",
              "<table border=\"1\" class=\"dataframe\">\n",
              "  <thead>\n",
              "    <tr style=\"text-align: right;\">\n",
              "      <th>recuperado</th>\n",
              "      <th>Fallecido</th>\n",
              "      <th>Recuperado</th>\n",
              "    </tr>\n",
              "    <tr>\n",
              "      <th>sexo</th>\n",
              "      <th></th>\n",
              "      <th></th>\n",
              "    </tr>\n",
              "  </thead>\n",
              "  <tbody>\n",
              "    <tr>\n",
              "      <th>F</th>\n",
              "      <td>69.538462</td>\n",
              "      <td>37.591876</td>\n",
              "    </tr>\n",
              "    <tr>\n",
              "      <th>M</th>\n",
              "      <td>68.785714</td>\n",
              "      <td>35.748330</td>\n",
              "    </tr>\n",
              "  </tbody>\n",
              "</table>\n",
              "</div>\n",
              "      <button class=\"colab-df-convert\" onclick=\"convertToInteractive('df-6cb54384-58aa-4cd7-bd17-ff9293618c6e')\"\n",
              "              title=\"Convert this dataframe to an interactive table.\"\n",
              "              style=\"display:none;\">\n",
              "        \n",
              "  <svg xmlns=\"http://www.w3.org/2000/svg\" height=\"24px\"viewBox=\"0 0 24 24\"\n",
              "       width=\"24px\">\n",
              "    <path d=\"M0 0h24v24H0V0z\" fill=\"none\"/>\n",
              "    <path d=\"M18.56 5.44l.94 2.06.94-2.06 2.06-.94-2.06-.94-.94-2.06-.94 2.06-2.06.94zm-11 1L8.5 8.5l.94-2.06 2.06-.94-2.06-.94L8.5 2.5l-.94 2.06-2.06.94zm10 10l.94 2.06.94-2.06 2.06-.94-2.06-.94-.94-2.06-.94 2.06-2.06.94z\"/><path d=\"M17.41 7.96l-1.37-1.37c-.4-.4-.92-.59-1.43-.59-.52 0-1.04.2-1.43.59L10.3 9.45l-7.72 7.72c-.78.78-.78 2.05 0 2.83L4 21.41c.39.39.9.59 1.41.59.51 0 1.02-.2 1.41-.59l7.78-7.78 2.81-2.81c.8-.78.8-2.07 0-2.86zM5.41 20L4 18.59l7.72-7.72 1.47 1.35L5.41 20z\"/>\n",
              "  </svg>\n",
              "      </button>\n",
              "      \n",
              "  <style>\n",
              "    .colab-df-container {\n",
              "      display:flex;\n",
              "      flex-wrap:wrap;\n",
              "      gap: 12px;\n",
              "    }\n",
              "\n",
              "    .colab-df-convert {\n",
              "      background-color: #E8F0FE;\n",
              "      border: none;\n",
              "      border-radius: 50%;\n",
              "      cursor: pointer;\n",
              "      display: none;\n",
              "      fill: #1967D2;\n",
              "      height: 32px;\n",
              "      padding: 0 0 0 0;\n",
              "      width: 32px;\n",
              "    }\n",
              "\n",
              "    .colab-df-convert:hover {\n",
              "      background-color: #E2EBFA;\n",
              "      box-shadow: 0px 1px 2px rgba(60, 64, 67, 0.3), 0px 1px 3px 1px rgba(60, 64, 67, 0.15);\n",
              "      fill: #174EA6;\n",
              "    }\n",
              "\n",
              "    [theme=dark] .colab-df-convert {\n",
              "      background-color: #3B4455;\n",
              "      fill: #D2E3FC;\n",
              "    }\n",
              "\n",
              "    [theme=dark] .colab-df-convert:hover {\n",
              "      background-color: #434B5C;\n",
              "      box-shadow: 0px 1px 3px 1px rgba(0, 0, 0, 0.15);\n",
              "      filter: drop-shadow(0px 1px 2px rgba(0, 0, 0, 0.3));\n",
              "      fill: #FFFFFF;\n",
              "    }\n",
              "  </style>\n",
              "\n",
              "      <script>\n",
              "        const buttonEl =\n",
              "          document.querySelector('#df-6cb54384-58aa-4cd7-bd17-ff9293618c6e button.colab-df-convert');\n",
              "        buttonEl.style.display =\n",
              "          google.colab.kernel.accessAllowed ? 'block' : 'none';\n",
              "\n",
              "        async function convertToInteractive(key) {\n",
              "          const element = document.querySelector('#df-6cb54384-58aa-4cd7-bd17-ff9293618c6e');\n",
              "          const dataTable =\n",
              "            await google.colab.kernel.invokeFunction('convertToInteractive',\n",
              "                                                     [key], {});\n",
              "          if (!dataTable) return;\n",
              "\n",
              "          const docLinkHtml = 'Like what you see? Visit the ' +\n",
              "            '<a target=\"_blank\" href=https://colab.research.google.com/notebooks/data_table.ipynb>data table notebook</a>'\n",
              "            + ' to learn more about interactive tables.';\n",
              "          element.innerHTML = '';\n",
              "          dataTable['output_type'] = 'display_data';\n",
              "          await google.colab.output.renderOutput(dataTable, element);\n",
              "          const docLink = document.createElement('div');\n",
              "          docLink.innerHTML = docLinkHtml;\n",
              "          element.appendChild(docLink);\n",
              "        }\n",
              "      </script>\n",
              "    </div>\n",
              "  </div>\n",
              "  "
            ]
          },
          "metadata": {},
          "execution_count": 71
        }
      ]
    },
    {
      "cell_type": "markdown",
      "source": [
        "Esta tabla pivote muestra el estado de las personas contagiadas con COVID-19, ya sea que se hayan recuperado o fallecido, según su sexo (femenino o masculino). Además, se proporciona el promedio de edad de las personas en cada categoría. Las columnas \"Recuperado\" y \"Fallecido\" representan los dos estados posibles de las personas contagiadas: recuperado o fallecido.\n",
        "\n",
        "La columna \"sexo\" indica el género de las personas, donde \"F\" representa el sexo femenino y \"M\" representa el sexo masculino.\n",
        "\n",
        "Dentro de cada celda indican el número promedio de edad de las personas en cada estado y sexo. Por ejemplo, en la celda correspondiente a \"F\" en la columna \"recuperado\", se observa un valor de 69.538462, lo que indica que, en promedio, las mujeres recuperadas tienen una edad de aproximadamente 69.5 años."
      ],
      "metadata": {
        "id": "5lDDRlyN_F1K"
      }
    },
    {
      "cell_type": "code",
      "source": [
        "# Se realiza la tabla de agrupación se imprime.\n",
        "AgrupadaRecupera=datosCovid_arreglada.groupby(datosCovid_arreglada['tipo_recuperacion']).count()[['departamento']]\n",
        "AgrupadaRecupera=AgrupadaRecupera.rename(columns={'departamento':'Cantidad'}, index={0:'Fallecidos'}) # se realizan cambios en los nombres de las columnas y en índices.\n",
        "AgrupadaRecupera"
      ],
      "metadata": {
        "colab": {
          "base_uri": "https://localhost:8080/",
          "height": 175
        },
        "id": "rP3oDjOYhK4_",
        "outputId": "8fa9c1ea-b056-432f-91cf-8712c2d2e49c"
      },
      "execution_count": 72,
      "outputs": [
        {
          "output_type": "execute_result",
          "data": {
            "text/plain": [
              "                   Cantidad\n",
              "tipo_recuperacion          \n",
              "Fallecidos               34\n",
              "PCR                     210\n",
              "Tiempo                  756"
            ],
            "text/html": [
              "\n",
              "  <div id=\"df-44b6d335-6260-4d4b-93be-12fd57636919\">\n",
              "    <div class=\"colab-df-container\">\n",
              "      <div>\n",
              "<style scoped>\n",
              "    .dataframe tbody tr th:only-of-type {\n",
              "        vertical-align: middle;\n",
              "    }\n",
              "\n",
              "    .dataframe tbody tr th {\n",
              "        vertical-align: top;\n",
              "    }\n",
              "\n",
              "    .dataframe thead th {\n",
              "        text-align: right;\n",
              "    }\n",
              "</style>\n",
              "<table border=\"1\" class=\"dataframe\">\n",
              "  <thead>\n",
              "    <tr style=\"text-align: right;\">\n",
              "      <th></th>\n",
              "      <th>Cantidad</th>\n",
              "    </tr>\n",
              "    <tr>\n",
              "      <th>tipo_recuperacion</th>\n",
              "      <th></th>\n",
              "    </tr>\n",
              "  </thead>\n",
              "  <tbody>\n",
              "    <tr>\n",
              "      <th>Fallecidos</th>\n",
              "      <td>34</td>\n",
              "    </tr>\n",
              "    <tr>\n",
              "      <th>PCR</th>\n",
              "      <td>210</td>\n",
              "    </tr>\n",
              "    <tr>\n",
              "      <th>Tiempo</th>\n",
              "      <td>756</td>\n",
              "    </tr>\n",
              "  </tbody>\n",
              "</table>\n",
              "</div>\n",
              "      <button class=\"colab-df-convert\" onclick=\"convertToInteractive('df-44b6d335-6260-4d4b-93be-12fd57636919')\"\n",
              "              title=\"Convert this dataframe to an interactive table.\"\n",
              "              style=\"display:none;\">\n",
              "        \n",
              "  <svg xmlns=\"http://www.w3.org/2000/svg\" height=\"24px\"viewBox=\"0 0 24 24\"\n",
              "       width=\"24px\">\n",
              "    <path d=\"M0 0h24v24H0V0z\" fill=\"none\"/>\n",
              "    <path d=\"M18.56 5.44l.94 2.06.94-2.06 2.06-.94-2.06-.94-.94-2.06-.94 2.06-2.06.94zm-11 1L8.5 8.5l.94-2.06 2.06-.94-2.06-.94L8.5 2.5l-.94 2.06-2.06.94zm10 10l.94 2.06.94-2.06 2.06-.94-2.06-.94-.94-2.06-.94 2.06-2.06.94z\"/><path d=\"M17.41 7.96l-1.37-1.37c-.4-.4-.92-.59-1.43-.59-.52 0-1.04.2-1.43.59L10.3 9.45l-7.72 7.72c-.78.78-.78 2.05 0 2.83L4 21.41c.39.39.9.59 1.41.59.51 0 1.02-.2 1.41-.59l7.78-7.78 2.81-2.81c.8-.78.8-2.07 0-2.86zM5.41 20L4 18.59l7.72-7.72 1.47 1.35L5.41 20z\"/>\n",
              "  </svg>\n",
              "      </button>\n",
              "      \n",
              "  <style>\n",
              "    .colab-df-container {\n",
              "      display:flex;\n",
              "      flex-wrap:wrap;\n",
              "      gap: 12px;\n",
              "    }\n",
              "\n",
              "    .colab-df-convert {\n",
              "      background-color: #E8F0FE;\n",
              "      border: none;\n",
              "      border-radius: 50%;\n",
              "      cursor: pointer;\n",
              "      display: none;\n",
              "      fill: #1967D2;\n",
              "      height: 32px;\n",
              "      padding: 0 0 0 0;\n",
              "      width: 32px;\n",
              "    }\n",
              "\n",
              "    .colab-df-convert:hover {\n",
              "      background-color: #E2EBFA;\n",
              "      box-shadow: 0px 1px 2px rgba(60, 64, 67, 0.3), 0px 1px 3px 1px rgba(60, 64, 67, 0.15);\n",
              "      fill: #174EA6;\n",
              "    }\n",
              "\n",
              "    [theme=dark] .colab-df-convert {\n",
              "      background-color: #3B4455;\n",
              "      fill: #D2E3FC;\n",
              "    }\n",
              "\n",
              "    [theme=dark] .colab-df-convert:hover {\n",
              "      background-color: #434B5C;\n",
              "      box-shadow: 0px 1px 3px 1px rgba(0, 0, 0, 0.15);\n",
              "      filter: drop-shadow(0px 1px 2px rgba(0, 0, 0, 0.3));\n",
              "      fill: #FFFFFF;\n",
              "    }\n",
              "  </style>\n",
              "\n",
              "      <script>\n",
              "        const buttonEl =\n",
              "          document.querySelector('#df-44b6d335-6260-4d4b-93be-12fd57636919 button.colab-df-convert');\n",
              "        buttonEl.style.display =\n",
              "          google.colab.kernel.accessAllowed ? 'block' : 'none';\n",
              "\n",
              "        async function convertToInteractive(key) {\n",
              "          const element = document.querySelector('#df-44b6d335-6260-4d4b-93be-12fd57636919');\n",
              "          const dataTable =\n",
              "            await google.colab.kernel.invokeFunction('convertToInteractive',\n",
              "                                                     [key], {});\n",
              "          if (!dataTable) return;\n",
              "\n",
              "          const docLinkHtml = 'Like what you see? Visit the ' +\n",
              "            '<a target=\"_blank\" href=https://colab.research.google.com/notebooks/data_table.ipynb>data table notebook</a>'\n",
              "            + ' to learn more about interactive tables.';\n",
              "          element.innerHTML = '';\n",
              "          dataTable['output_type'] = 'display_data';\n",
              "          await google.colab.output.renderOutput(dataTable, element);\n",
              "          const docLink = document.createElement('div');\n",
              "          docLink.innerHTML = docLinkHtml;\n",
              "          element.appendChild(docLink);\n",
              "        }\n",
              "      </script>\n",
              "    </div>\n",
              "  </div>\n",
              "  "
            ]
          },
          "metadata": {},
          "execution_count": 72
        }
      ]
    },
    {
      "cell_type": "markdown",
      "source": [
        "Esta tabla de agrupación muestra el tipo de recuperación de las personas contagiadas con COVID-19 en Colombia y la cantidad correspondiente en cada categoría.\n",
        "\n",
        "La columna \"tipo_recuperacion\" indica los diferentes tipos de recuperación que se han registrado para las personas contagiadas. En este caso, los tipos de recuperación son \"Fallecidos\", \"PCR\" y \"Tiempo\". La columna \"Cantidad\" indica la cantidad de personas que se han recuperado según cada tipo de recuperación mencionado."
      ],
      "metadata": {
        "id": "a8ipDV2sCUaq"
      }
    },
    {
      "cell_type": "code",
      "source": [
        "# Se realiza la tabla de agrupación se imprime.\n",
        "datosCovid_arreglada.groupby(datosCovid_arreglada['departamento_nom']).mean()[['edad']]"
      ],
      "metadata": {
        "colab": {
          "base_uri": "https://localhost:8080/",
          "height": 1000
        },
        "id": "XfzTif1YkB31",
        "outputId": "e170f6c8-d52d-401a-be3e-7f51128fc054"
      },
      "execution_count": 73,
      "outputs": [
        {
          "output_type": "stream",
          "name": "stderr",
          "text": [
            "<ipython-input-73-a5cd60404feb>:2: FutureWarning: The default value of numeric_only in DataFrameGroupBy.mean is deprecated. In a future version, numeric_only will default to False. Either specify numeric_only or select only columns which should be valid for the function.\n",
            "  datosCovid_arreglada.groupby(datosCovid_arreglada['departamento_nom']).mean()[['edad']]\n"
          ]
        },
        {
          "output_type": "execute_result",
          "data": {
            "text/plain": [
              "                       edad\n",
              "departamento_nom           \n",
              "AMAZONAS          53.750000\n",
              "ANTIOQUIA         43.931034\n",
              "ARAUCA            19.333333\n",
              "ATLANTICO         38.444444\n",
              "BARRANQUILLA      35.654054\n",
              "BOGOTA            50.500000\n",
              "BOLIVAR           52.333333\n",
              "BOYACA            42.647059\n",
              "CALDAS            36.807692\n",
              "CAQUETA           38.333333\n",
              "CARTAGENA         32.166667\n",
              "CASANARE          18.750000\n",
              "CAUCA             42.444444\n",
              "CESAR             38.285714\n",
              "CHOCO             73.000000\n",
              "CORDOBA           47.750000\n",
              "CUNDINAMARCA      33.105263\n",
              "GUAJIRA           45.900000\n",
              "HUILA             35.636364\n",
              "MAGDALENA         35.444444\n",
              "META              37.866667\n",
              "NARIÑO            36.631579\n",
              "NORTE SANTANDER   36.526316\n",
              "PUTUMAYO          36.000000\n",
              "QUINDIO           34.900000\n",
              "RISARALDA         44.750000\n",
              "SANTANDER         37.518519\n",
              "STA MARTA D.E.    45.488372\n",
              "SUCRE             37.818182\n",
              "TOLIMA            53.357143\n",
              "VALLE             35.637363\n",
              "VICHADA           26.000000"
            ],
            "text/html": [
              "\n",
              "  <div id=\"df-a160f17e-cbe0-4838-954d-4b0cefcb5093\">\n",
              "    <div class=\"colab-df-container\">\n",
              "      <div>\n",
              "<style scoped>\n",
              "    .dataframe tbody tr th:only-of-type {\n",
              "        vertical-align: middle;\n",
              "    }\n",
              "\n",
              "    .dataframe tbody tr th {\n",
              "        vertical-align: top;\n",
              "    }\n",
              "\n",
              "    .dataframe thead th {\n",
              "        text-align: right;\n",
              "    }\n",
              "</style>\n",
              "<table border=\"1\" class=\"dataframe\">\n",
              "  <thead>\n",
              "    <tr style=\"text-align: right;\">\n",
              "      <th></th>\n",
              "      <th>edad</th>\n",
              "    </tr>\n",
              "    <tr>\n",
              "      <th>departamento_nom</th>\n",
              "      <th></th>\n",
              "    </tr>\n",
              "  </thead>\n",
              "  <tbody>\n",
              "    <tr>\n",
              "      <th>AMAZONAS</th>\n",
              "      <td>53.750000</td>\n",
              "    </tr>\n",
              "    <tr>\n",
              "      <th>ANTIOQUIA</th>\n",
              "      <td>43.931034</td>\n",
              "    </tr>\n",
              "    <tr>\n",
              "      <th>ARAUCA</th>\n",
              "      <td>19.333333</td>\n",
              "    </tr>\n",
              "    <tr>\n",
              "      <th>ATLANTICO</th>\n",
              "      <td>38.444444</td>\n",
              "    </tr>\n",
              "    <tr>\n",
              "      <th>BARRANQUILLA</th>\n",
              "      <td>35.654054</td>\n",
              "    </tr>\n",
              "    <tr>\n",
              "      <th>BOGOTA</th>\n",
              "      <td>50.500000</td>\n",
              "    </tr>\n",
              "    <tr>\n",
              "      <th>BOLIVAR</th>\n",
              "      <td>52.333333</td>\n",
              "    </tr>\n",
              "    <tr>\n",
              "      <th>BOYACA</th>\n",
              "      <td>42.647059</td>\n",
              "    </tr>\n",
              "    <tr>\n",
              "      <th>CALDAS</th>\n",
              "      <td>36.807692</td>\n",
              "    </tr>\n",
              "    <tr>\n",
              "      <th>CAQUETA</th>\n",
              "      <td>38.333333</td>\n",
              "    </tr>\n",
              "    <tr>\n",
              "      <th>CARTAGENA</th>\n",
              "      <td>32.166667</td>\n",
              "    </tr>\n",
              "    <tr>\n",
              "      <th>CASANARE</th>\n",
              "      <td>18.750000</td>\n",
              "    </tr>\n",
              "    <tr>\n",
              "      <th>CAUCA</th>\n",
              "      <td>42.444444</td>\n",
              "    </tr>\n",
              "    <tr>\n",
              "      <th>CESAR</th>\n",
              "      <td>38.285714</td>\n",
              "    </tr>\n",
              "    <tr>\n",
              "      <th>CHOCO</th>\n",
              "      <td>73.000000</td>\n",
              "    </tr>\n",
              "    <tr>\n",
              "      <th>CORDOBA</th>\n",
              "      <td>47.750000</td>\n",
              "    </tr>\n",
              "    <tr>\n",
              "      <th>CUNDINAMARCA</th>\n",
              "      <td>33.105263</td>\n",
              "    </tr>\n",
              "    <tr>\n",
              "      <th>GUAJIRA</th>\n",
              "      <td>45.900000</td>\n",
              "    </tr>\n",
              "    <tr>\n",
              "      <th>HUILA</th>\n",
              "      <td>35.636364</td>\n",
              "    </tr>\n",
              "    <tr>\n",
              "      <th>MAGDALENA</th>\n",
              "      <td>35.444444</td>\n",
              "    </tr>\n",
              "    <tr>\n",
              "      <th>META</th>\n",
              "      <td>37.866667</td>\n",
              "    </tr>\n",
              "    <tr>\n",
              "      <th>NARIÑO</th>\n",
              "      <td>36.631579</td>\n",
              "    </tr>\n",
              "    <tr>\n",
              "      <th>NORTE SANTANDER</th>\n",
              "      <td>36.526316</td>\n",
              "    </tr>\n",
              "    <tr>\n",
              "      <th>PUTUMAYO</th>\n",
              "      <td>36.000000</td>\n",
              "    </tr>\n",
              "    <tr>\n",
              "      <th>QUINDIO</th>\n",
              "      <td>34.900000</td>\n",
              "    </tr>\n",
              "    <tr>\n",
              "      <th>RISARALDA</th>\n",
              "      <td>44.750000</td>\n",
              "    </tr>\n",
              "    <tr>\n",
              "      <th>SANTANDER</th>\n",
              "      <td>37.518519</td>\n",
              "    </tr>\n",
              "    <tr>\n",
              "      <th>STA MARTA D.E.</th>\n",
              "      <td>45.488372</td>\n",
              "    </tr>\n",
              "    <tr>\n",
              "      <th>SUCRE</th>\n",
              "      <td>37.818182</td>\n",
              "    </tr>\n",
              "    <tr>\n",
              "      <th>TOLIMA</th>\n",
              "      <td>53.357143</td>\n",
              "    </tr>\n",
              "    <tr>\n",
              "      <th>VALLE</th>\n",
              "      <td>35.637363</td>\n",
              "    </tr>\n",
              "    <tr>\n",
              "      <th>VICHADA</th>\n",
              "      <td>26.000000</td>\n",
              "    </tr>\n",
              "  </tbody>\n",
              "</table>\n",
              "</div>\n",
              "      <button class=\"colab-df-convert\" onclick=\"convertToInteractive('df-a160f17e-cbe0-4838-954d-4b0cefcb5093')\"\n",
              "              title=\"Convert this dataframe to an interactive table.\"\n",
              "              style=\"display:none;\">\n",
              "        \n",
              "  <svg xmlns=\"http://www.w3.org/2000/svg\" height=\"24px\"viewBox=\"0 0 24 24\"\n",
              "       width=\"24px\">\n",
              "    <path d=\"M0 0h24v24H0V0z\" fill=\"none\"/>\n",
              "    <path d=\"M18.56 5.44l.94 2.06.94-2.06 2.06-.94-2.06-.94-.94-2.06-.94 2.06-2.06.94zm-11 1L8.5 8.5l.94-2.06 2.06-.94-2.06-.94L8.5 2.5l-.94 2.06-2.06.94zm10 10l.94 2.06.94-2.06 2.06-.94-2.06-.94-.94-2.06-.94 2.06-2.06.94z\"/><path d=\"M17.41 7.96l-1.37-1.37c-.4-.4-.92-.59-1.43-.59-.52 0-1.04.2-1.43.59L10.3 9.45l-7.72 7.72c-.78.78-.78 2.05 0 2.83L4 21.41c.39.39.9.59 1.41.59.51 0 1.02-.2 1.41-.59l7.78-7.78 2.81-2.81c.8-.78.8-2.07 0-2.86zM5.41 20L4 18.59l7.72-7.72 1.47 1.35L5.41 20z\"/>\n",
              "  </svg>\n",
              "      </button>\n",
              "      \n",
              "  <style>\n",
              "    .colab-df-container {\n",
              "      display:flex;\n",
              "      flex-wrap:wrap;\n",
              "      gap: 12px;\n",
              "    }\n",
              "\n",
              "    .colab-df-convert {\n",
              "      background-color: #E8F0FE;\n",
              "      border: none;\n",
              "      border-radius: 50%;\n",
              "      cursor: pointer;\n",
              "      display: none;\n",
              "      fill: #1967D2;\n",
              "      height: 32px;\n",
              "      padding: 0 0 0 0;\n",
              "      width: 32px;\n",
              "    }\n",
              "\n",
              "    .colab-df-convert:hover {\n",
              "      background-color: #E2EBFA;\n",
              "      box-shadow: 0px 1px 2px rgba(60, 64, 67, 0.3), 0px 1px 3px 1px rgba(60, 64, 67, 0.15);\n",
              "      fill: #174EA6;\n",
              "    }\n",
              "\n",
              "    [theme=dark] .colab-df-convert {\n",
              "      background-color: #3B4455;\n",
              "      fill: #D2E3FC;\n",
              "    }\n",
              "\n",
              "    [theme=dark] .colab-df-convert:hover {\n",
              "      background-color: #434B5C;\n",
              "      box-shadow: 0px 1px 3px 1px rgba(0, 0, 0, 0.15);\n",
              "      filter: drop-shadow(0px 1px 2px rgba(0, 0, 0, 0.3));\n",
              "      fill: #FFFFFF;\n",
              "    }\n",
              "  </style>\n",
              "\n",
              "      <script>\n",
              "        const buttonEl =\n",
              "          document.querySelector('#df-a160f17e-cbe0-4838-954d-4b0cefcb5093 button.colab-df-convert');\n",
              "        buttonEl.style.display =\n",
              "          google.colab.kernel.accessAllowed ? 'block' : 'none';\n",
              "\n",
              "        async function convertToInteractive(key) {\n",
              "          const element = document.querySelector('#df-a160f17e-cbe0-4838-954d-4b0cefcb5093');\n",
              "          const dataTable =\n",
              "            await google.colab.kernel.invokeFunction('convertToInteractive',\n",
              "                                                     [key], {});\n",
              "          if (!dataTable) return;\n",
              "\n",
              "          const docLinkHtml = 'Like what you see? Visit the ' +\n",
              "            '<a target=\"_blank\" href=https://colab.research.google.com/notebooks/data_table.ipynb>data table notebook</a>'\n",
              "            + ' to learn more about interactive tables.';\n",
              "          element.innerHTML = '';\n",
              "          dataTable['output_type'] = 'display_data';\n",
              "          await google.colab.output.renderOutput(dataTable, element);\n",
              "          const docLink = document.createElement('div');\n",
              "          docLink.innerHTML = docLinkHtml;\n",
              "          element.appendChild(docLink);\n",
              "        }\n",
              "      </script>\n",
              "    </div>\n",
              "  </div>\n",
              "  "
            ]
          },
          "metadata": {},
          "execution_count": 73
        }
      ]
    },
    {
      "cell_type": "markdown",
      "source": [
        "Esta tabla de agrupación muestra los departamentos de Colombia con casos positivos de COVID-19 y el promedio de edad de las personas contagiadas.\n",
        "\n",
        "La columna \"departamento_nom\" indica los diferentes departamentos de Colombia que han registrado casos positivos de COVID-19. La columna \"edad\" muestra el promedio de edad de las personas contagiadas en cada departamento. Por ejemplo, en el departamento de Amazonas, el promedio de edad de las personas contagiadas es de 53.73 años, en Antioquia es de 43.93 años, en Arauca es de 19.33 años, y así sucesivamente para cada departamento."
      ],
      "metadata": {
        "id": "U0CR34eVI4MF"
      }
    },
    {
      "cell_type": "markdown",
      "source": [
        "10. Todas las gráficas deben ser explicadas"
      ],
      "metadata": {
        "id": "zsspDwjt3ZF2"
      }
    },
    {
      "cell_type": "markdown",
      "source": [
        "**Las gráficas fueron explicadas y analizadas con anterioridad en cada punto correspondiente.**"
      ],
      "metadata": {
        "id": "w8lSap4II5ig"
      }
    }
  ]
}